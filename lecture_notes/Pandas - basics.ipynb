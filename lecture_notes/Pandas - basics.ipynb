{
 "cells": [
  {
   "cell_type": "markdown",
   "id": "fa01718b",
   "metadata": {},
   "source": [
    "# Basic Functionality\n",
    "\n",
    "**Prerequisites**\n",
    "\n",
    "- [pandas Intro](https://datascience.quantecon.org/intro.html)  \n",
    "\n",
    "\n",
    "**Outcomes**\n",
    "\n",
    "- Be familiar with `datetime`  \n",
    "- Use built-in aggregation functions and be able to create your own and\n",
    "  apply them using `agg`  \n",
    "- Use built-in Series transformation functions and be able to create your\n",
    "  own and apply them using `apply`  \n",
    "- Use built-in scalar transformation functions and be able to create your\n",
    "  own and apply them using `applymap`  \n",
    "- Be able to select subsets of the DataFrame using boolean selection  \n",
    "- Know what the “want operator” is and how to apply it  \n",
    "\n",
    "\n",
    "**Data**\n",
    "\n",
    "- US state unemployment data from Bureau of Labor Statistics  "
   ]
  },
  {
   "cell_type": "code",
   "execution_count": 2,
   "id": "915a30ca",
   "metadata": {
    "hide-output": false
   },
   "outputs": [],
   "source": [
    "# Uncomment following line to install on colab\n",
    "#! pip install "
   ]
  },
  {
   "cell_type": "markdown",
   "id": "2d4c77ef",
   "metadata": {},
   "source": [
    "## State Unemployment Data\n",
    "\n",
    "In this lecture, we will use unemployment data by state at a monthly\n",
    "frequency."
   ]
  },
  {
   "cell_type": "code",
   "execution_count": 3,
   "id": "08004209",
   "metadata": {
    "hide-output": false
   },
   "outputs": [
    {
     "data": {
      "text/plain": [
       "'1.5.2'"
      ]
     },
     "execution_count": 3,
     "metadata": {},
     "output_type": "execute_result"
    }
   ],
   "source": [
    "import pandas as pd\n",
    "\n",
    "%matplotlib inline\n",
    "\n",
    "pd.__version__"
   ]
  },
  {
   "cell_type": "markdown",
   "id": "e87ebb37",
   "metadata": {},
   "source": [
    "First, we will download the data directly from a url and read it into a pandas DataFrame."
   ]
  },
  {
   "cell_type": "code",
   "execution_count": 4,
   "id": "1005dee0",
   "metadata": {
    "hide-output": false
   },
   "outputs": [],
   "source": [
    "## Load up the data -- this will take a couple seconds\n",
    "url = \"https://datascience.quantecon.org/assets/data/state_unemployment.csv\"\n",
    "unemp_raw = pd.read_csv(url, parse_dates=[\"Date\"]) # datatype object "
   ]
  },
  {
   "cell_type": "markdown",
   "id": "6e6b732f",
   "metadata": {},
   "source": [
    "The pandas `read_csv` will determine most datatypes of the underlying columns.  The\n",
    "exception here is that we need to give pandas a hint so it can load up the `Date` column as a Python datetime type: the `parse_dates=[\"Date\"]`.\n",
    "\n",
    "We can see the basic structure of the downloaded data by getting the first 5 rows, which directly matches\n",
    "the underlying CSV file."
   ]
  },
  {
   "cell_type": "code",
   "execution_count": 5,
   "id": "d95f48b6",
   "metadata": {
    "hide-output": false
   },
   "outputs": [
    {
     "data": {
      "text/html": [
       "<div>\n",
       "<style scoped>\n",
       "    .dataframe tbody tr th:only-of-type {\n",
       "        vertical-align: middle;\n",
       "    }\n",
       "\n",
       "    .dataframe tbody tr th {\n",
       "        vertical-align: top;\n",
       "    }\n",
       "\n",
       "    .dataframe thead th {\n",
       "        text-align: right;\n",
       "    }\n",
       "</style>\n",
       "<table border=\"1\" class=\"dataframe\">\n",
       "  <thead>\n",
       "    <tr style=\"text-align: right;\">\n",
       "      <th></th>\n",
       "      <th>Date</th>\n",
       "      <th>state</th>\n",
       "      <th>LaborForce</th>\n",
       "      <th>UnemploymentRate</th>\n",
       "    </tr>\n",
       "  </thead>\n",
       "  <tbody>\n",
       "    <tr>\n",
       "      <th>0</th>\n",
       "      <td>2000-01-01</td>\n",
       "      <td>Alabama</td>\n",
       "      <td>2142945.0</td>\n",
       "      <td>4.7</td>\n",
       "    </tr>\n",
       "    <tr>\n",
       "      <th>1</th>\n",
       "      <td>2000-01-01</td>\n",
       "      <td>Alaska</td>\n",
       "      <td>319059.0</td>\n",
       "      <td>6.3</td>\n",
       "    </tr>\n",
       "    <tr>\n",
       "      <th>2</th>\n",
       "      <td>2000-01-01</td>\n",
       "      <td>Arizona</td>\n",
       "      <td>2499980.0</td>\n",
       "      <td>4.1</td>\n",
       "    </tr>\n",
       "    <tr>\n",
       "      <th>3</th>\n",
       "      <td>2000-01-01</td>\n",
       "      <td>Arkansas</td>\n",
       "      <td>1264619.0</td>\n",
       "      <td>4.4</td>\n",
       "    </tr>\n",
       "    <tr>\n",
       "      <th>4</th>\n",
       "      <td>2000-01-01</td>\n",
       "      <td>California</td>\n",
       "      <td>16680246.0</td>\n",
       "      <td>5.0</td>\n",
       "    </tr>\n",
       "  </tbody>\n",
       "</table>\n",
       "</div>"
      ],
      "text/plain": [
       "        Date       state  LaborForce  UnemploymentRate\n",
       "0 2000-01-01     Alabama   2142945.0               4.7\n",
       "1 2000-01-01      Alaska    319059.0               6.3\n",
       "2 2000-01-01     Arizona   2499980.0               4.1\n",
       "3 2000-01-01    Arkansas   1264619.0               4.4\n",
       "4 2000-01-01  California  16680246.0               5.0"
      ]
     },
     "execution_count": 5,
     "metadata": {},
     "output_type": "execute_result"
    }
   ],
   "source": [
    "unemp_raw.head()"
   ]
  },
  {
   "cell_type": "markdown",
   "id": "756973c5",
   "metadata": {},
   "source": [
    "Note that a row has a date, state, labor force size, and unemployment rate.\n",
    "\n",
    "For our analysis, we want to look at the unemployment rate across different states over time, which\n",
    "requires a transformation of the data similar to an Excel pivot-table."
   ]
  },
  {
   "cell_type": "code",
   "execution_count": 6,
   "id": "197e1b97",
   "metadata": {
    "hide-output": false
   },
   "outputs": [
    {
     "data": {
      "text/html": [
       "<div>\n",
       "<style scoped>\n",
       "    .dataframe tbody tr th:only-of-type {\n",
       "        vertical-align: middle;\n",
       "    }\n",
       "\n",
       "    .dataframe tbody tr th {\n",
       "        vertical-align: top;\n",
       "    }\n",
       "\n",
       "    .dataframe thead th {\n",
       "        text-align: right;\n",
       "    }\n",
       "</style>\n",
       "<table border=\"1\" class=\"dataframe\">\n",
       "  <thead>\n",
       "    <tr style=\"text-align: right;\">\n",
       "      <th>state</th>\n",
       "      <th>Alabama</th>\n",
       "      <th>Alaska</th>\n",
       "      <th>Arizona</th>\n",
       "      <th>Arkansas</th>\n",
       "      <th>California</th>\n",
       "      <th>Colorado</th>\n",
       "      <th>Connecticut</th>\n",
       "      <th>Delaware</th>\n",
       "      <th>Florida</th>\n",
       "      <th>Georgia</th>\n",
       "      <th>...</th>\n",
       "      <th>South Dakota</th>\n",
       "      <th>Tennessee</th>\n",
       "      <th>Texas</th>\n",
       "      <th>Utah</th>\n",
       "      <th>Vermont</th>\n",
       "      <th>Virginia</th>\n",
       "      <th>Washington</th>\n",
       "      <th>West Virginia</th>\n",
       "      <th>Wisconsin</th>\n",
       "      <th>Wyoming</th>\n",
       "    </tr>\n",
       "    <tr>\n",
       "      <th>Date</th>\n",
       "      <th></th>\n",
       "      <th></th>\n",
       "      <th></th>\n",
       "      <th></th>\n",
       "      <th></th>\n",
       "      <th></th>\n",
       "      <th></th>\n",
       "      <th></th>\n",
       "      <th></th>\n",
       "      <th></th>\n",
       "      <th></th>\n",
       "      <th></th>\n",
       "      <th></th>\n",
       "      <th></th>\n",
       "      <th></th>\n",
       "      <th></th>\n",
       "      <th></th>\n",
       "      <th></th>\n",
       "      <th></th>\n",
       "      <th></th>\n",
       "      <th></th>\n",
       "    </tr>\n",
       "  </thead>\n",
       "  <tbody>\n",
       "    <tr>\n",
       "      <th>2000-01-01</th>\n",
       "      <td>4.7</td>\n",
       "      <td>6.3</td>\n",
       "      <td>4.1</td>\n",
       "      <td>4.4</td>\n",
       "      <td>5.0</td>\n",
       "      <td>2.8</td>\n",
       "      <td>2.8</td>\n",
       "      <td>3.5</td>\n",
       "      <td>3.7</td>\n",
       "      <td>3.7</td>\n",
       "      <td>...</td>\n",
       "      <td>2.4</td>\n",
       "      <td>3.7</td>\n",
       "      <td>4.6</td>\n",
       "      <td>3.1</td>\n",
       "      <td>2.7</td>\n",
       "      <td>2.6</td>\n",
       "      <td>4.9</td>\n",
       "      <td>5.8</td>\n",
       "      <td>3.2</td>\n",
       "      <td>4.1</td>\n",
       "    </tr>\n",
       "    <tr>\n",
       "      <th>2000-02-01</th>\n",
       "      <td>4.7</td>\n",
       "      <td>6.3</td>\n",
       "      <td>4.1</td>\n",
       "      <td>4.3</td>\n",
       "      <td>5.0</td>\n",
       "      <td>2.8</td>\n",
       "      <td>2.7</td>\n",
       "      <td>3.6</td>\n",
       "      <td>3.7</td>\n",
       "      <td>3.6</td>\n",
       "      <td>...</td>\n",
       "      <td>2.4</td>\n",
       "      <td>3.7</td>\n",
       "      <td>4.6</td>\n",
       "      <td>3.1</td>\n",
       "      <td>2.6</td>\n",
       "      <td>2.5</td>\n",
       "      <td>4.9</td>\n",
       "      <td>5.6</td>\n",
       "      <td>3.2</td>\n",
       "      <td>3.9</td>\n",
       "    </tr>\n",
       "    <tr>\n",
       "      <th>2000-03-01</th>\n",
       "      <td>4.6</td>\n",
       "      <td>6.3</td>\n",
       "      <td>4.0</td>\n",
       "      <td>4.3</td>\n",
       "      <td>5.0</td>\n",
       "      <td>2.7</td>\n",
       "      <td>2.6</td>\n",
       "      <td>3.6</td>\n",
       "      <td>3.7</td>\n",
       "      <td>3.6</td>\n",
       "      <td>...</td>\n",
       "      <td>2.4</td>\n",
       "      <td>3.8</td>\n",
       "      <td>4.5</td>\n",
       "      <td>3.1</td>\n",
       "      <td>2.6</td>\n",
       "      <td>2.4</td>\n",
       "      <td>5.0</td>\n",
       "      <td>5.5</td>\n",
       "      <td>3.3</td>\n",
       "      <td>3.9</td>\n",
       "    </tr>\n",
       "    <tr>\n",
       "      <th>2000-04-01</th>\n",
       "      <td>4.6</td>\n",
       "      <td>6.3</td>\n",
       "      <td>4.0</td>\n",
       "      <td>4.3</td>\n",
       "      <td>5.1</td>\n",
       "      <td>2.7</td>\n",
       "      <td>2.5</td>\n",
       "      <td>3.7</td>\n",
       "      <td>3.7</td>\n",
       "      <td>3.7</td>\n",
       "      <td>...</td>\n",
       "      <td>2.4</td>\n",
       "      <td>3.8</td>\n",
       "      <td>4.4</td>\n",
       "      <td>3.1</td>\n",
       "      <td>2.7</td>\n",
       "      <td>2.4</td>\n",
       "      <td>5.0</td>\n",
       "      <td>5.4</td>\n",
       "      <td>3.4</td>\n",
       "      <td>3.8</td>\n",
       "    </tr>\n",
       "    <tr>\n",
       "      <th>2000-05-01</th>\n",
       "      <td>4.5</td>\n",
       "      <td>6.3</td>\n",
       "      <td>4.0</td>\n",
       "      <td>4.2</td>\n",
       "      <td>5.1</td>\n",
       "      <td>2.7</td>\n",
       "      <td>2.4</td>\n",
       "      <td>3.7</td>\n",
       "      <td>3.7</td>\n",
       "      <td>3.7</td>\n",
       "      <td>...</td>\n",
       "      <td>2.4</td>\n",
       "      <td>3.9</td>\n",
       "      <td>4.3</td>\n",
       "      <td>3.2</td>\n",
       "      <td>2.7</td>\n",
       "      <td>2.3</td>\n",
       "      <td>5.1</td>\n",
       "      <td>5.4</td>\n",
       "      <td>3.5</td>\n",
       "      <td>3.8</td>\n",
       "    </tr>\n",
       "  </tbody>\n",
       "</table>\n",
       "<p>5 rows × 50 columns</p>\n",
       "</div>"
      ],
      "text/plain": [
       "state       Alabama  Alaska  Arizona  Arkansas  California  Colorado  \\\n",
       "Date                                                                   \n",
       "2000-01-01      4.7     6.3      4.1       4.4         5.0       2.8   \n",
       "2000-02-01      4.7     6.3      4.1       4.3         5.0       2.8   \n",
       "2000-03-01      4.6     6.3      4.0       4.3         5.0       2.7   \n",
       "2000-04-01      4.6     6.3      4.0       4.3         5.1       2.7   \n",
       "2000-05-01      4.5     6.3      4.0       4.2         5.1       2.7   \n",
       "\n",
       "state       Connecticut  Delaware  Florida  Georgia  ...  South Dakota  \\\n",
       "Date                                                 ...                 \n",
       "2000-01-01          2.8       3.5      3.7      3.7  ...           2.4   \n",
       "2000-02-01          2.7       3.6      3.7      3.6  ...           2.4   \n",
       "2000-03-01          2.6       3.6      3.7      3.6  ...           2.4   \n",
       "2000-04-01          2.5       3.7      3.7      3.7  ...           2.4   \n",
       "2000-05-01          2.4       3.7      3.7      3.7  ...           2.4   \n",
       "\n",
       "state       Tennessee  Texas  Utah  Vermont  Virginia  Washington  \\\n",
       "Date                                                                \n",
       "2000-01-01        3.7    4.6   3.1      2.7       2.6         4.9   \n",
       "2000-02-01        3.7    4.6   3.1      2.6       2.5         4.9   \n",
       "2000-03-01        3.8    4.5   3.1      2.6       2.4         5.0   \n",
       "2000-04-01        3.8    4.4   3.1      2.7       2.4         5.0   \n",
       "2000-05-01        3.9    4.3   3.2      2.7       2.3         5.1   \n",
       "\n",
       "state       West Virginia  Wisconsin  Wyoming  \n",
       "Date                                           \n",
       "2000-01-01            5.8        3.2      4.1  \n",
       "2000-02-01            5.6        3.2      3.9  \n",
       "2000-03-01            5.5        3.3      3.9  \n",
       "2000-04-01            5.4        3.4      3.8  \n",
       "2000-05-01            5.4        3.5      3.8  \n",
       "\n",
       "[5 rows x 50 columns]"
      ]
     },
     "execution_count": 6,
     "metadata": {},
     "output_type": "execute_result"
    }
   ],
   "source": [
    "# Don't worry about the details here quite yet\n",
    "unemp_all = (\n",
    "    unemp_raw\n",
    "    .reset_index()\n",
    "    .pivot_table(index=\"Date\", columns=\"state\", values=\"UnemploymentRate\")\n",
    ")\n",
    "unemp_all.head()"
   ]
  },
  {
   "cell_type": "markdown",
   "id": "87823fb6",
   "metadata": {},
   "source": [
    "Finally, we can filter it to look at a subset of the columns (i.e. “state” in this case)."
   ]
  },
  {
   "cell_type": "code",
   "execution_count": 7,
   "id": "4f9d3a2e",
   "metadata": {
    "hide-output": false
   },
   "outputs": [
    {
     "data": {
      "text/html": [
       "<div>\n",
       "<style scoped>\n",
       "    .dataframe tbody tr th:only-of-type {\n",
       "        vertical-align: middle;\n",
       "    }\n",
       "\n",
       "    .dataframe tbody tr th {\n",
       "        vertical-align: top;\n",
       "    }\n",
       "\n",
       "    .dataframe thead th {\n",
       "        text-align: right;\n",
       "    }\n",
       "</style>\n",
       "<table border=\"1\" class=\"dataframe\">\n",
       "  <thead>\n",
       "    <tr style=\"text-align: right;\">\n",
       "      <th>state</th>\n",
       "      <th>Arizona</th>\n",
       "      <th>California</th>\n",
       "      <th>Florida</th>\n",
       "      <th>Illinois</th>\n",
       "      <th>Michigan</th>\n",
       "      <th>New York</th>\n",
       "      <th>Texas</th>\n",
       "    </tr>\n",
       "    <tr>\n",
       "      <th>Date</th>\n",
       "      <th></th>\n",
       "      <th></th>\n",
       "      <th></th>\n",
       "      <th></th>\n",
       "      <th></th>\n",
       "      <th></th>\n",
       "      <th></th>\n",
       "    </tr>\n",
       "  </thead>\n",
       "  <tbody>\n",
       "    <tr>\n",
       "      <th>2000-01-01</th>\n",
       "      <td>4.1</td>\n",
       "      <td>5.0</td>\n",
       "      <td>3.7</td>\n",
       "      <td>4.2</td>\n",
       "      <td>3.3</td>\n",
       "      <td>4.7</td>\n",
       "      <td>4.6</td>\n",
       "    </tr>\n",
       "    <tr>\n",
       "      <th>2000-02-01</th>\n",
       "      <td>4.1</td>\n",
       "      <td>5.0</td>\n",
       "      <td>3.7</td>\n",
       "      <td>4.2</td>\n",
       "      <td>3.2</td>\n",
       "      <td>4.7</td>\n",
       "      <td>4.6</td>\n",
       "    </tr>\n",
       "    <tr>\n",
       "      <th>2000-03-01</th>\n",
       "      <td>4.0</td>\n",
       "      <td>5.0</td>\n",
       "      <td>3.7</td>\n",
       "      <td>4.3</td>\n",
       "      <td>3.2</td>\n",
       "      <td>4.6</td>\n",
       "      <td>4.5</td>\n",
       "    </tr>\n",
       "    <tr>\n",
       "      <th>2000-04-01</th>\n",
       "      <td>4.0</td>\n",
       "      <td>5.1</td>\n",
       "      <td>3.7</td>\n",
       "      <td>4.3</td>\n",
       "      <td>3.3</td>\n",
       "      <td>4.6</td>\n",
       "      <td>4.4</td>\n",
       "    </tr>\n",
       "    <tr>\n",
       "      <th>2000-05-01</th>\n",
       "      <td>4.0</td>\n",
       "      <td>5.1</td>\n",
       "      <td>3.7</td>\n",
       "      <td>4.3</td>\n",
       "      <td>3.5</td>\n",
       "      <td>4.6</td>\n",
       "      <td>4.3</td>\n",
       "    </tr>\n",
       "  </tbody>\n",
       "</table>\n",
       "</div>"
      ],
      "text/plain": [
       "state       Arizona  California  Florida  Illinois  Michigan  New York  Texas\n",
       "Date                                                                         \n",
       "2000-01-01      4.1         5.0      3.7       4.2       3.3       4.7    4.6\n",
       "2000-02-01      4.1         5.0      3.7       4.2       3.2       4.7    4.6\n",
       "2000-03-01      4.0         5.0      3.7       4.3       3.2       4.6    4.5\n",
       "2000-04-01      4.0         5.1      3.7       4.3       3.3       4.6    4.4\n",
       "2000-05-01      4.0         5.1      3.7       4.3       3.5       4.6    4.3"
      ]
     },
     "execution_count": 7,
     "metadata": {},
     "output_type": "execute_result"
    }
   ],
   "source": [
    "states = [\n",
    "    \"Arizona\", \"California\", \"Florida\", \"Illinois\",\n",
    "    \"Michigan\", \"New York\", \"Texas\"\n",
    "]\n",
    "unemp = unemp_all[states] # choose some columns\n",
    "unemp.head()"
   ]
  },
  {
   "cell_type": "markdown",
   "id": "2052fd35",
   "metadata": {},
   "source": [
    "When plotting, a DataFrame knows the column and index names."
   ]
  },
  {
   "cell_type": "code",
   "execution_count": 8,
   "id": "8152552d",
   "metadata": {
    "hide-output": false
   },
   "outputs": [
    {
     "data": {
      "text/plain": [
       "<AxesSubplot: xlabel='Date'>"
      ]
     },
     "execution_count": 8,
     "metadata": {},
     "output_type": "execute_result"
    },
    {
     "data": {
      "image/png": "[encoded data removed]",
      "text/plain": [
       "<Figure size 800x600 with 1 Axes>"
      ]
     },
     "metadata": {},
     "output_type": "display_data"
    },
    {
     "data": {
      "image/png": "[encoded data removed]",
      "text/plain": [
       "<Figure size 640x480 with 1 Axes>"
      ]
     },
     "metadata": {},
     "output_type": "display_data"
    }
   ],
   "source": [
    "unemp.plot(figsize=(8, 6))\n",
    "unemp.plot()"
   ]
  },
  {
   "cell_type": "markdown",
   "id": "1a414e8d",
   "metadata": {},
   "source": [
    "## Exercise\n",
    "\n",
    "See exercise 1 in the [exercise list](#pd-bas-ex)."
   ]
  },
  {
   "cell_type": "markdown",
   "id": "4f0425bf",
   "metadata": {},
   "source": [
    "## Dates in pandas\n",
    "\n",
    "You might have noticed that our index now has a nice format for the\n",
    "dates (`YYYY-MM-DD`) rather than just a year.\n",
    "\n",
    "This is because the `dtype` of the index is a variant of `datetime`."
   ]
  },
  {
   "cell_type": "code",
   "execution_count": 9,
   "id": "969ad664",
   "metadata": {
    "hide-output": false
   },
   "outputs": [
    {
     "data": {
      "text/plain": [
       "DatetimeIndex(['2000-01-01', '2000-02-01', '2000-03-01', '2000-04-01',\n",
       "               '2000-05-01', '2000-06-01', '2000-07-01', '2000-08-01',\n",
       "               '2000-09-01', '2000-10-01',\n",
       "               ...\n",
       "               '2017-03-01', '2017-04-01', '2017-05-01', '2017-06-01',\n",
       "               '2017-07-01', '2017-08-01', '2017-09-01', '2017-10-01',\n",
       "               '2017-11-01', '2017-12-01'],\n",
       "              dtype='datetime64[ns]', name='Date', length=216, freq=None)"
      ]
     },
     "execution_count": 9,
     "metadata": {},
     "output_type": "execute_result"
    }
   ],
   "source": [
    "unemp.index"
   ]
  },
  {
   "cell_type": "markdown",
   "id": "9eafff7d",
   "metadata": {},
   "source": [
    "We can index into a DataFrame with a `DatetimeIndex` using string\n",
    "representations of dates.\n",
    "\n",
    "For example"
   ]
  },
  {
   "cell_type": "code",
   "execution_count": 10,
   "id": "e7a81a70",
   "metadata": {
    "hide-output": false
   },
   "outputs": [
    {
     "data": {
      "text/plain": [
       "state\n",
       "Arizona       4.1\n",
       "California    5.0\n",
       "Florida       3.7\n",
       "Illinois      4.2\n",
       "Michigan      3.3\n",
       "New York      4.7\n",
       "Texas         4.6\n",
       "Name: 2000-01-01 00:00:00, dtype: float64"
      ]
     },
     "execution_count": 10,
     "metadata": {},
     "output_type": "execute_result"
    }
   ],
   "source": [
    "# Data corresponding to a single date\n",
    "unemp.loc[\"01/01/2000\", :]"
   ]
  },
  {
   "cell_type": "code",
   "execution_count": 11,
   "id": "d6ad6d50",
   "metadata": {
    "hide-output": false
   },
   "outputs": [
    {
     "data": {
      "text/html": [
       "<div>\n",
       "<style scoped>\n",
       "    .dataframe tbody tr th:only-of-type {\n",
       "        vertical-align: middle;\n",
       "    }\n",
       "\n",
       "    .dataframe tbody tr th {\n",
       "        vertical-align: top;\n",
       "    }\n",
       "\n",
       "    .dataframe thead th {\n",
       "        text-align: right;\n",
       "    }\n",
       "</style>\n",
       "<table border=\"1\" class=\"dataframe\">\n",
       "  <thead>\n",
       "    <tr style=\"text-align: right;\">\n",
       "      <th>state</th>\n",
       "      <th>Arizona</th>\n",
       "      <th>California</th>\n",
       "      <th>Florida</th>\n",
       "      <th>Illinois</th>\n",
       "      <th>Michigan</th>\n",
       "      <th>New York</th>\n",
       "      <th>Texas</th>\n",
       "    </tr>\n",
       "    <tr>\n",
       "      <th>Date</th>\n",
       "      <th></th>\n",
       "      <th></th>\n",
       "      <th></th>\n",
       "      <th></th>\n",
       "      <th></th>\n",
       "      <th></th>\n",
       "      <th></th>\n",
       "    </tr>\n",
       "  </thead>\n",
       "  <tbody>\n",
       "    <tr>\n",
       "      <th>2000-01-01</th>\n",
       "      <td>4.1</td>\n",
       "      <td>5.0</td>\n",
       "      <td>3.7</td>\n",
       "      <td>4.2</td>\n",
       "      <td>3.3</td>\n",
       "      <td>4.7</td>\n",
       "      <td>4.6</td>\n",
       "    </tr>\n",
       "    <tr>\n",
       "      <th>2000-02-01</th>\n",
       "      <td>4.1</td>\n",
       "      <td>5.0</td>\n",
       "      <td>3.7</td>\n",
       "      <td>4.2</td>\n",
       "      <td>3.2</td>\n",
       "      <td>4.7</td>\n",
       "      <td>4.6</td>\n",
       "    </tr>\n",
       "    <tr>\n",
       "      <th>2000-03-01</th>\n",
       "      <td>4.0</td>\n",
       "      <td>5.0</td>\n",
       "      <td>3.7</td>\n",
       "      <td>4.3</td>\n",
       "      <td>3.2</td>\n",
       "      <td>4.6</td>\n",
       "      <td>4.5</td>\n",
       "    </tr>\n",
       "    <tr>\n",
       "      <th>2000-04-01</th>\n",
       "      <td>4.0</td>\n",
       "      <td>5.1</td>\n",
       "      <td>3.7</td>\n",
       "      <td>4.3</td>\n",
       "      <td>3.3</td>\n",
       "      <td>4.6</td>\n",
       "      <td>4.4</td>\n",
       "    </tr>\n",
       "    <tr>\n",
       "      <th>2000-05-01</th>\n",
       "      <td>4.0</td>\n",
       "      <td>5.1</td>\n",
       "      <td>3.7</td>\n",
       "      <td>4.3</td>\n",
       "      <td>3.5</td>\n",
       "      <td>4.6</td>\n",
       "      <td>4.3</td>\n",
       "    </tr>\n",
       "    <tr>\n",
       "      <th>2000-06-01</th>\n",
       "      <td>4.0</td>\n",
       "      <td>5.1</td>\n",
       "      <td>3.8</td>\n",
       "      <td>4.3</td>\n",
       "      <td>3.7</td>\n",
       "      <td>4.6</td>\n",
       "      <td>4.3</td>\n",
       "    </tr>\n",
       "  </tbody>\n",
       "</table>\n",
       "</div>"
      ],
      "text/plain": [
       "state       Arizona  California  Florida  Illinois  Michigan  New York  Texas\n",
       "Date                                                                         \n",
       "2000-01-01      4.1         5.0      3.7       4.2       3.3       4.7    4.6\n",
       "2000-02-01      4.1         5.0      3.7       4.2       3.2       4.7    4.6\n",
       "2000-03-01      4.0         5.0      3.7       4.3       3.2       4.6    4.5\n",
       "2000-04-01      4.0         5.1      3.7       4.3       3.3       4.6    4.4\n",
       "2000-05-01      4.0         5.1      3.7       4.3       3.5       4.6    4.3\n",
       "2000-06-01      4.0         5.1      3.8       4.3       3.7       4.6    4.3"
      ]
     },
     "execution_count": 11,
     "metadata": {},
     "output_type": "execute_result"
    }
   ],
   "source": [
    "# Data for all days between New Years Day and June first in the year 2000\n",
    "unemp.loc[\"01/01/2000\":\"06/01/2000\", :]"
   ]
  },
  {
   "cell_type": "markdown",
   "id": "0d78f82c",
   "metadata": {},
   "source": [
    "We will learn more about what pandas can do with dates and times in an\n",
    "upcoming lecture on time series data."
   ]
  },
  {
   "cell_type": "markdown",
   "id": "99c3584a",
   "metadata": {},
   "source": [
    "## DataFrame Aggregations\n",
    "\n",
    "Let’s talk about *aggregations*.\n",
    "\n",
    "Loosely speaking, an aggregation is an operation that combines multiple\n",
    "values into a single value.\n",
    "\n",
    "For example, computing the mean of three numbers (for example\n",
    "`[0, 1, 2]`) returns a single number (1).\n",
    "\n",
    "We will use aggregations extensively as we analyze and manipulate our data.\n",
    "\n",
    "Thankfully, pandas makes this easy!"
   ]
  },
  {
   "cell_type": "markdown",
   "id": "19d11f7e",
   "metadata": {},
   "source": [
    "### Built-in Aggregations (Default: aggregrate on column)\n",
    "\n",
    "pandas already has some of the most frequently used aggregations.\n",
    "\n",
    "For example:\n",
    "\n",
    "- Mean  (`mean`)  \n",
    "- Variance (`var`)  \n",
    "- Standard deviation (`std`)  \n",
    "- Minimum (`min`)  \n",
    "- Median (`median`)  \n",
    "- Maximum (`max`)  \n",
    "- etc…  \n",
    "\n",
    "\n",
    ">**Note**\n",
    ">\n",
    ">When looking for common operations, using “tab completion” goes a long way."
   ]
  },
  {
   "cell_type": "code",
   "execution_count": 12,
   "id": "b24c47df",
   "metadata": {
    "hide-output": false
   },
   "outputs": [
    {
     "data": {
      "text/plain": [
       "state\n",
       "Arizona       6.301389\n",
       "California    7.299074\n",
       "Florida       6.048611\n",
       "Illinois      6.822685\n",
       "Michigan      7.492593\n",
       "New York      6.102315\n",
       "Texas         5.695370\n",
       "dtype: float64"
      ]
     },
     "execution_count": 12,
     "metadata": {},
     "output_type": "execute_result"
    }
   ],
   "source": [
    "unemp.mean()"
   ]
  },
  {
   "cell_type": "markdown",
   "id": "64acc2ff",
   "metadata": {},
   "source": [
    "As seen above, the aggregation’s default is to aggregate each column.\n",
    "\n",
    "However, by using the `axis` keyword argument, you can do aggregations by\n",
    "row as well."
   ]
  },
  {
   "cell_type": "code",
   "execution_count": 13,
   "id": "d7b97120",
   "metadata": {
    "hide-output": false
   },
   "outputs": [
    {
     "data": {
      "text/plain": [
       "Date\n",
       "2000-01-01    0.352381\n",
       "2000-02-01    0.384762\n",
       "2000-03-01    0.364762\n",
       "2000-04-01    0.353333\n",
       "2000-05-01    0.294762\n",
       "dtype: float64"
      ]
     },
     "execution_count": 13,
     "metadata": {},
     "output_type": "execute_result"
    }
   ],
   "source": [
    "unemp.var(axis=1).head() # aggregrate on rows using axis = 1"
   ]
  },
  {
   "cell_type": "markdown",
   "id": "f78f8253",
   "metadata": {},
   "source": [
    "### Writing Your Own Aggregation\n",
    "\n",
    "The built-in aggregations will get us pretty far in our analysis, but\n",
    "sometimes we need more flexibility.\n",
    "\n",
    "We can have pandas perform custom aggregations by following these two\n",
    "steps:\n",
    "\n",
    "1. Write a Python function that takes a `Series` as an input and\n",
    "  outputs a single value.  \n",
    "1. Call the `agg` method with our new function as an argument.  \n",
    "\n",
    "\n",
    "For example, below, we will classify states as “low unemployment” or\n",
    "“high unemployment” based on whether their mean unemployment level is\n",
    "above or below 6.5."
   ]
  },
  {
   "cell_type": "code",
   "execution_count": 14,
   "id": "85c89e67",
   "metadata": {
    "hide-output": false
   },
   "outputs": [],
   "source": [
    "#\n",
    "# Step 1: We write the (aggregation) function that we'd like to use\n",
    "#\n",
    "def high_or_low(s):\n",
    "    \"\"\"\n",
    "    This function takes a pandas Series object and returns high\n",
    "    if the mean is above 6.5 and low if the mean is below 6.5\n",
    "    \"\"\"\n",
    "    if s.mean() < 6.5:\n",
    "        out = \"Low\"\n",
    "    else:\n",
    "        out = \"High\"\n",
    "\n",
    "    return out"
   ]
  },
  {
   "cell_type": "code",
   "execution_count": 15,
   "id": "9c14e067",
   "metadata": {
    "hide-output": false
   },
   "outputs": [
    {
     "data": {
      "text/plain": [
       "state\n",
       "Arizona        Low\n",
       "California    High\n",
       "Florida        Low\n",
       "Illinois      High\n",
       "Michigan      High\n",
       "New York       Low\n",
       "Texas          Low\n",
       "dtype: object"
      ]
     },
     "execution_count": 15,
     "metadata": {},
     "output_type": "execute_result"
    }
   ],
   "source": [
    "#\n",
    "# Step 2: Apply it via the agg method.\n",
    "#\n",
    "unemp.agg(high_or_low) ###"
   ]
  },
  {
   "cell_type": "code",
   "execution_count": 16,
   "id": "64477506",
   "metadata": {
    "hide-output": false
   },
   "outputs": [
    {
     "data": {
      "text/plain": [
       "Date\n",
       "2000-01-01    Low\n",
       "2000-02-01    Low\n",
       "2000-03-01    Low\n",
       "2000-04-01    Low\n",
       "2000-05-01    Low\n",
       "dtype: object"
      ]
     },
     "execution_count": 16,
     "metadata": {},
     "output_type": "execute_result"
    }
   ],
   "source": [
    "# How does this differ from unemp.agg(high_or_low)?\n",
    "unemp.agg(high_or_low, axis=1).head()"
   ]
  },
  {
   "cell_type": "markdown",
   "id": "1b019fdc",
   "metadata": {},
   "source": [
    "Notice that `agg` can also accept multiple functions at once."
   ]
  },
  {
   "cell_type": "code",
   "execution_count": 17,
   "id": "33dbf545",
   "metadata": {
    "hide-output": false
   },
   "outputs": [
    {
     "data": {
      "text/html": [
       "<div>\n",
       "<style scoped>\n",
       "    .dataframe tbody tr th:only-of-type {\n",
       "        vertical-align: middle;\n",
       "    }\n",
       "\n",
       "    .dataframe tbody tr th {\n",
       "        vertical-align: top;\n",
       "    }\n",
       "\n",
       "    .dataframe thead th {\n",
       "        text-align: right;\n",
       "    }\n",
       "</style>\n",
       "<table border=\"1\" class=\"dataframe\">\n",
       "  <thead>\n",
       "    <tr style=\"text-align: right;\">\n",
       "      <th>state</th>\n",
       "      <th>Arizona</th>\n",
       "      <th>California</th>\n",
       "      <th>Florida</th>\n",
       "      <th>Illinois</th>\n",
       "      <th>Michigan</th>\n",
       "      <th>New York</th>\n",
       "      <th>Texas</th>\n",
       "    </tr>\n",
       "  </thead>\n",
       "  <tbody>\n",
       "    <tr>\n",
       "      <th>min</th>\n",
       "      <td>3.6</td>\n",
       "      <td>4.5</td>\n",
       "      <td>3.1</td>\n",
       "      <td>4.2</td>\n",
       "      <td>3.2</td>\n",
       "      <td>4.2</td>\n",
       "      <td>3.9</td>\n",
       "    </tr>\n",
       "    <tr>\n",
       "      <th>max</th>\n",
       "      <td>10.9</td>\n",
       "      <td>12.3</td>\n",
       "      <td>11.3</td>\n",
       "      <td>11.3</td>\n",
       "      <td>14.6</td>\n",
       "      <td>8.9</td>\n",
       "      <td>8.3</td>\n",
       "    </tr>\n",
       "    <tr>\n",
       "      <th>high_or_low</th>\n",
       "      <td>Low</td>\n",
       "      <td>High</td>\n",
       "      <td>Low</td>\n",
       "      <td>High</td>\n",
       "      <td>High</td>\n",
       "      <td>Low</td>\n",
       "      <td>Low</td>\n",
       "    </tr>\n",
       "  </tbody>\n",
       "</table>\n",
       "</div>"
      ],
      "text/plain": [
       "state       Arizona California Florida Illinois Michigan New York Texas\n",
       "min             3.6        4.5     3.1      4.2      3.2      4.2   3.9\n",
       "max            10.9       12.3    11.3     11.3     14.6      8.9   8.3\n",
       "high_or_low     Low       High     Low     High     High      Low   Low"
      ]
     },
     "execution_count": 17,
     "metadata": {},
     "output_type": "execute_result"
    }
   ],
   "source": [
    "unemp.agg([min, max, high_or_low]) # low, high and low_and_high for each column"
   ]
  },
  {
   "cell_type": "markdown",
   "id": "994ae77a",
   "metadata": {},
   "source": [
    "### Exercise\n",
    "\n",
    "See exercise 2 in the [exercise list](#pd-bas-ex)."
   ]
  },
  {
   "cell_type": "markdown",
   "id": "b6d6b4c0",
   "metadata": {},
   "source": [
    "## Transforms\n",
    "\n",
    "Many analytical operations do not necessarily involve an aggregation.\n",
    "\n",
    "The output of a function applied to a Series might need to be a new\n",
    "Series.\n",
    "\n",
    "Some examples:\n",
    "\n",
    "- Compute the percentage change in unemployment from month to month.  \n",
    "- Calculate the cumulative sum of elements in each column.  "
   ]
  },
  {
   "cell_type": "markdown",
   "id": "e4f48d95",
   "metadata": {},
   "source": [
    "### Built-in Transforms\n",
    "\n",
    "pandas comes with many transform functions including:\n",
    "\n",
    "- Cumulative sum/max/min/product (`cum(sum|min|max|prod)`)  \n",
    "- Difference  (`diff`)  \n",
    "- Elementwise addition/subtraction/multiplication/division (`+`, `-`, `*`, `/`)  \n",
    "- Percent change (`pct_change`)  \n",
    "- Number of occurrences of each distinct value (`value_counts`)  \n",
    "- Absolute value (`abs`)  \n",
    "\n",
    "\n",
    "Again, tab completion is helpful when trying to find these functions."
   ]
  },
  {
   "cell_type": "code",
   "execution_count": 18,
   "id": "00d91ba0",
   "metadata": {
    "hide-output": false
   },
   "outputs": [
    {
     "data": {
      "text/html": [
       "<div>\n",
       "<style scoped>\n",
       "    .dataframe tbody tr th:only-of-type {\n",
       "        vertical-align: middle;\n",
       "    }\n",
       "\n",
       "    .dataframe tbody tr th {\n",
       "        vertical-align: top;\n",
       "    }\n",
       "\n",
       "    .dataframe thead th {\n",
       "        text-align: right;\n",
       "    }\n",
       "</style>\n",
       "<table border=\"1\" class=\"dataframe\">\n",
       "  <thead>\n",
       "    <tr style=\"text-align: right;\">\n",
       "      <th>state</th>\n",
       "      <th>Arizona</th>\n",
       "      <th>California</th>\n",
       "      <th>Florida</th>\n",
       "      <th>Illinois</th>\n",
       "      <th>Michigan</th>\n",
       "      <th>New York</th>\n",
       "      <th>Texas</th>\n",
       "    </tr>\n",
       "    <tr>\n",
       "      <th>Date</th>\n",
       "      <th></th>\n",
       "      <th></th>\n",
       "      <th></th>\n",
       "      <th></th>\n",
       "      <th></th>\n",
       "      <th></th>\n",
       "      <th></th>\n",
       "    </tr>\n",
       "  </thead>\n",
       "  <tbody>\n",
       "    <tr>\n",
       "      <th>2000-01-01</th>\n",
       "      <td>4.1</td>\n",
       "      <td>5.0</td>\n",
       "      <td>3.7</td>\n",
       "      <td>4.2</td>\n",
       "      <td>3.3</td>\n",
       "      <td>4.7</td>\n",
       "      <td>4.6</td>\n",
       "    </tr>\n",
       "    <tr>\n",
       "      <th>2000-02-01</th>\n",
       "      <td>4.1</td>\n",
       "      <td>5.0</td>\n",
       "      <td>3.7</td>\n",
       "      <td>4.2</td>\n",
       "      <td>3.2</td>\n",
       "      <td>4.7</td>\n",
       "      <td>4.6</td>\n",
       "    </tr>\n",
       "    <tr>\n",
       "      <th>2000-03-01</th>\n",
       "      <td>4.0</td>\n",
       "      <td>5.0</td>\n",
       "      <td>3.7</td>\n",
       "      <td>4.3</td>\n",
       "      <td>3.2</td>\n",
       "      <td>4.6</td>\n",
       "      <td>4.5</td>\n",
       "    </tr>\n",
       "    <tr>\n",
       "      <th>2000-04-01</th>\n",
       "      <td>4.0</td>\n",
       "      <td>5.1</td>\n",
       "      <td>3.7</td>\n",
       "      <td>4.3</td>\n",
       "      <td>3.3</td>\n",
       "      <td>4.6</td>\n",
       "      <td>4.4</td>\n",
       "    </tr>\n",
       "    <tr>\n",
       "      <th>2000-05-01</th>\n",
       "      <td>4.0</td>\n",
       "      <td>5.1</td>\n",
       "      <td>3.7</td>\n",
       "      <td>4.3</td>\n",
       "      <td>3.5</td>\n",
       "      <td>4.6</td>\n",
       "      <td>4.3</td>\n",
       "    </tr>\n",
       "  </tbody>\n",
       "</table>\n",
       "</div>"
      ],
      "text/plain": [
       "state       Arizona  California  Florida  Illinois  Michigan  New York  Texas\n",
       "Date                                                                         \n",
       "2000-01-01      4.1         5.0      3.7       4.2       3.3       4.7    4.6\n",
       "2000-02-01      4.1         5.0      3.7       4.2       3.2       4.7    4.6\n",
       "2000-03-01      4.0         5.0      3.7       4.3       3.2       4.6    4.5\n",
       "2000-04-01      4.0         5.1      3.7       4.3       3.3       4.6    4.4\n",
       "2000-05-01      4.0         5.1      3.7       4.3       3.5       4.6    4.3"
      ]
     },
     "execution_count": 18,
     "metadata": {},
     "output_type": "execute_result"
    }
   ],
   "source": [
    "unemp.head()"
   ]
  },
  {
   "cell_type": "code",
   "execution_count": 19,
   "id": "f3b560e0",
   "metadata": {
    "hide-output": false
   },
   "outputs": [
    {
     "data": {
      "text/html": [
       "<div>\n",
       "<style scoped>\n",
       "    .dataframe tbody tr th:only-of-type {\n",
       "        vertical-align: middle;\n",
       "    }\n",
       "\n",
       "    .dataframe tbody tr th {\n",
       "        vertical-align: top;\n",
       "    }\n",
       "\n",
       "    .dataframe thead th {\n",
       "        text-align: right;\n",
       "    }\n",
       "</style>\n",
       "<table border=\"1\" class=\"dataframe\">\n",
       "  <thead>\n",
       "    <tr style=\"text-align: right;\">\n",
       "      <th>state</th>\n",
       "      <th>Arizona</th>\n",
       "      <th>California</th>\n",
       "      <th>Florida</th>\n",
       "      <th>Illinois</th>\n",
       "      <th>Michigan</th>\n",
       "      <th>New York</th>\n",
       "      <th>Texas</th>\n",
       "    </tr>\n",
       "    <tr>\n",
       "      <th>Date</th>\n",
       "      <th></th>\n",
       "      <th></th>\n",
       "      <th></th>\n",
       "      <th></th>\n",
       "      <th></th>\n",
       "      <th></th>\n",
       "      <th></th>\n",
       "    </tr>\n",
       "  </thead>\n",
       "  <tbody>\n",
       "    <tr>\n",
       "      <th>2000-01-01</th>\n",
       "      <td>NaN</td>\n",
       "      <td>NaN</td>\n",
       "      <td>NaN</td>\n",
       "      <td>NaN</td>\n",
       "      <td>NaN</td>\n",
       "      <td>NaN</td>\n",
       "      <td>NaN</td>\n",
       "    </tr>\n",
       "    <tr>\n",
       "      <th>2000-02-01</th>\n",
       "      <td>0.00000</td>\n",
       "      <td>0.00</td>\n",
       "      <td>0.0</td>\n",
       "      <td>0.00000</td>\n",
       "      <td>-0.030303</td>\n",
       "      <td>0.000000</td>\n",
       "      <td>0.000000</td>\n",
       "    </tr>\n",
       "    <tr>\n",
       "      <th>2000-03-01</th>\n",
       "      <td>-0.02439</td>\n",
       "      <td>0.00</td>\n",
       "      <td>0.0</td>\n",
       "      <td>0.02381</td>\n",
       "      <td>0.000000</td>\n",
       "      <td>-0.021277</td>\n",
       "      <td>-0.021739</td>\n",
       "    </tr>\n",
       "    <tr>\n",
       "      <th>2000-04-01</th>\n",
       "      <td>0.00000</td>\n",
       "      <td>0.02</td>\n",
       "      <td>0.0</td>\n",
       "      <td>0.00000</td>\n",
       "      <td>0.031250</td>\n",
       "      <td>0.000000</td>\n",
       "      <td>-0.022222</td>\n",
       "    </tr>\n",
       "    <tr>\n",
       "      <th>2000-05-01</th>\n",
       "      <td>0.00000</td>\n",
       "      <td>0.00</td>\n",
       "      <td>0.0</td>\n",
       "      <td>0.00000</td>\n",
       "      <td>0.060606</td>\n",
       "      <td>0.000000</td>\n",
       "      <td>-0.022727</td>\n",
       "    </tr>\n",
       "  </tbody>\n",
       "</table>\n",
       "</div>"
      ],
      "text/plain": [
       "state       Arizona  California  Florida  Illinois  Michigan  New York  \\\n",
       "Date                                                                     \n",
       "2000-01-01      NaN         NaN      NaN       NaN       NaN       NaN   \n",
       "2000-02-01  0.00000        0.00      0.0   0.00000 -0.030303  0.000000   \n",
       "2000-03-01 -0.02439        0.00      0.0   0.02381  0.000000 -0.021277   \n",
       "2000-04-01  0.00000        0.02      0.0   0.00000  0.031250  0.000000   \n",
       "2000-05-01  0.00000        0.00      0.0   0.00000  0.060606  0.000000   \n",
       "\n",
       "state          Texas  \n",
       "Date                  \n",
       "2000-01-01       NaN  \n",
       "2000-02-01  0.000000  \n",
       "2000-03-01 -0.021739  \n",
       "2000-04-01 -0.022222  \n",
       "2000-05-01 -0.022727  "
      ]
     },
     "execution_count": 19,
     "metadata": {},
     "output_type": "execute_result"
    }
   ],
   "source": [
    "unemp.pct_change(fill_method = None).head() # Skip calculation for missing data"
   ]
  },
  {
   "cell_type": "code",
   "execution_count": 20,
   "id": "613593a0",
   "metadata": {
    "hide-output": false
   },
   "outputs": [
    {
     "data": {
      "text/html": [
       "<div>\n",
       "<style scoped>\n",
       "    .dataframe tbody tr th:only-of-type {\n",
       "        vertical-align: middle;\n",
       "    }\n",
       "\n",
       "    .dataframe tbody tr th {\n",
       "        vertical-align: top;\n",
       "    }\n",
       "\n",
       "    .dataframe thead th {\n",
       "        text-align: right;\n",
       "    }\n",
       "</style>\n",
       "<table border=\"1\" class=\"dataframe\">\n",
       "  <thead>\n",
       "    <tr style=\"text-align: right;\">\n",
       "      <th>state</th>\n",
       "      <th>Arizona</th>\n",
       "      <th>California</th>\n",
       "      <th>Florida</th>\n",
       "      <th>Illinois</th>\n",
       "      <th>Michigan</th>\n",
       "      <th>New York</th>\n",
       "      <th>Texas</th>\n",
       "    </tr>\n",
       "    <tr>\n",
       "      <th>Date</th>\n",
       "      <th></th>\n",
       "      <th></th>\n",
       "      <th></th>\n",
       "      <th></th>\n",
       "      <th></th>\n",
       "      <th></th>\n",
       "      <th></th>\n",
       "    </tr>\n",
       "  </thead>\n",
       "  <tbody>\n",
       "    <tr>\n",
       "      <th>2000-01-01</th>\n",
       "      <td>NaN</td>\n",
       "      <td>NaN</td>\n",
       "      <td>NaN</td>\n",
       "      <td>NaN</td>\n",
       "      <td>NaN</td>\n",
       "      <td>NaN</td>\n",
       "      <td>NaN</td>\n",
       "    </tr>\n",
       "    <tr>\n",
       "      <th>2000-02-01</th>\n",
       "      <td>0.0</td>\n",
       "      <td>0.0</td>\n",
       "      <td>0.0</td>\n",
       "      <td>0.0</td>\n",
       "      <td>-0.1</td>\n",
       "      <td>0.0</td>\n",
       "      <td>0.0</td>\n",
       "    </tr>\n",
       "    <tr>\n",
       "      <th>2000-03-01</th>\n",
       "      <td>-0.1</td>\n",
       "      <td>0.0</td>\n",
       "      <td>0.0</td>\n",
       "      <td>0.1</td>\n",
       "      <td>0.0</td>\n",
       "      <td>-0.1</td>\n",
       "      <td>-0.1</td>\n",
       "    </tr>\n",
       "    <tr>\n",
       "      <th>2000-04-01</th>\n",
       "      <td>0.0</td>\n",
       "      <td>0.1</td>\n",
       "      <td>0.0</td>\n",
       "      <td>0.0</td>\n",
       "      <td>0.1</td>\n",
       "      <td>0.0</td>\n",
       "      <td>-0.1</td>\n",
       "    </tr>\n",
       "    <tr>\n",
       "      <th>2000-05-01</th>\n",
       "      <td>0.0</td>\n",
       "      <td>0.0</td>\n",
       "      <td>0.0</td>\n",
       "      <td>0.0</td>\n",
       "      <td>0.2</td>\n",
       "      <td>0.0</td>\n",
       "      <td>-0.1</td>\n",
       "    </tr>\n",
       "  </tbody>\n",
       "</table>\n",
       "</div>"
      ],
      "text/plain": [
       "state       Arizona  California  Florida  Illinois  Michigan  New York  Texas\n",
       "Date                                                                         \n",
       "2000-01-01      NaN         NaN      NaN       NaN       NaN       NaN    NaN\n",
       "2000-02-01      0.0         0.0      0.0       0.0      -0.1       0.0    0.0\n",
       "2000-03-01     -0.1         0.0      0.0       0.1       0.0      -0.1   -0.1\n",
       "2000-04-01      0.0         0.1      0.0       0.0       0.1       0.0   -0.1\n",
       "2000-05-01      0.0         0.0      0.0       0.0       0.2       0.0   -0.1"
      ]
     },
     "execution_count": 20,
     "metadata": {},
     "output_type": "execute_result"
    }
   ],
   "source": [
    "unemp.diff().head()"
   ]
  },
  {
   "cell_type": "markdown",
   "id": "3c58554a",
   "metadata": {},
   "source": [
    "Transforms can be split into to several main categories:\n",
    "\n",
    "1. *Series transforms*: functions that take in one Series and produce another Series. The index of the input and output does not need to be the same.  \n",
    "1. *Scalar transforms*: functions that take a single value and produce a single value. An example is the `abs` method, or adding a constant to each value of a Series.  "
   ]
  },
  {
   "cell_type": "markdown",
   "id": "d6cbf6eb",
   "metadata": {},
   "source": [
    "### Custom Series Transforms\n",
    "\n",
    "pandas also simplifies applying custom Series transforms to a Series or the\n",
    "columns of a DataFrame. The steps are:\n",
    "\n",
    "1. Write a Python function that takes a Series and outputs a new Series.  \n",
    "1. Pass our new function as an argument to the `apply` method (alternatively, the `transform` method).  \n",
    "\n",
    "\n",
    "As an example, we will standardize our unemployment data to have mean 0\n",
    "and standard deviation 1.\n",
    "\n",
    "After doing this, we can use an aggregation to determine at which date the\n",
    "unemployment rate is most different from “normal times” for each state."
   ]
  },
  {
   "cell_type": "code",
   "execution_count": 22,
   "id": "158ae69e",
   "metadata": {
    "hide-output": false
   },
   "outputs": [],
   "source": [
    "#\n",
    "# Step 1: We write the Series transform function that we'd like to use\n",
    "#\n",
    "def standardize_data(x):\n",
    "    \"\"\"\n",
    "    Changes the data in a Series to become mean 0 with standard deviation 1\n",
    "    \"\"\"\n",
    "    mu = x.mean()\n",
    "    std = x.std()\n",
    "\n",
    "    return (x - mu)/std"
   ]
  },
  {
   "cell_type": "code",
   "execution_count": 23,
   "id": "06c6943b",
   "metadata": {
    "hide-output": false
   },
   "outputs": [
    {
     "data": {
      "text/html": [
       "<div>\n",
       "<style scoped>\n",
       "    .dataframe tbody tr th:only-of-type {\n",
       "        vertical-align: middle;\n",
       "    }\n",
       "\n",
       "    .dataframe tbody tr th {\n",
       "        vertical-align: top;\n",
       "    }\n",
       "\n",
       "    .dataframe thead th {\n",
       "        text-align: right;\n",
       "    }\n",
       "</style>\n",
       "<table border=\"1\" class=\"dataframe\">\n",
       "  <thead>\n",
       "    <tr style=\"text-align: right;\">\n",
       "      <th>state</th>\n",
       "      <th>Arizona</th>\n",
       "      <th>California</th>\n",
       "      <th>Florida</th>\n",
       "      <th>Illinois</th>\n",
       "      <th>Michigan</th>\n",
       "      <th>New York</th>\n",
       "      <th>Texas</th>\n",
       "    </tr>\n",
       "    <tr>\n",
       "      <th>Date</th>\n",
       "      <th></th>\n",
       "      <th></th>\n",
       "      <th></th>\n",
       "      <th></th>\n",
       "      <th></th>\n",
       "      <th></th>\n",
       "      <th></th>\n",
       "    </tr>\n",
       "  </thead>\n",
       "  <tbody>\n",
       "    <tr>\n",
       "      <th>2000-01-01</th>\n",
       "      <td>-1.076861</td>\n",
       "      <td>-0.935545</td>\n",
       "      <td>-0.976846</td>\n",
       "      <td>-1.337203</td>\n",
       "      <td>-1.605740</td>\n",
       "      <td>-0.925962</td>\n",
       "      <td>-0.849345</td>\n",
       "    </tr>\n",
       "    <tr>\n",
       "      <th>2000-02-01</th>\n",
       "      <td>-1.076861</td>\n",
       "      <td>-0.935545</td>\n",
       "      <td>-0.976846</td>\n",
       "      <td>-1.337203</td>\n",
       "      <td>-1.644039</td>\n",
       "      <td>-0.925962</td>\n",
       "      <td>-0.849345</td>\n",
       "    </tr>\n",
       "    <tr>\n",
       "      <th>2000-03-01</th>\n",
       "      <td>-1.125778</td>\n",
       "      <td>-0.935545</td>\n",
       "      <td>-0.976846</td>\n",
       "      <td>-1.286217</td>\n",
       "      <td>-1.644039</td>\n",
       "      <td>-0.991993</td>\n",
       "      <td>-0.926885</td>\n",
       "    </tr>\n",
       "    <tr>\n",
       "      <th>2000-04-01</th>\n",
       "      <td>-1.125778</td>\n",
       "      <td>-0.894853</td>\n",
       "      <td>-0.976846</td>\n",
       "      <td>-1.286217</td>\n",
       "      <td>-1.605740</td>\n",
       "      <td>-0.991993</td>\n",
       "      <td>-1.004424</td>\n",
       "    </tr>\n",
       "    <tr>\n",
       "      <th>2000-05-01</th>\n",
       "      <td>-1.125778</td>\n",
       "      <td>-0.894853</td>\n",
       "      <td>-0.976846</td>\n",
       "      <td>-1.286217</td>\n",
       "      <td>-1.529141</td>\n",
       "      <td>-0.991993</td>\n",
       "      <td>-1.081964</td>\n",
       "    </tr>\n",
       "  </tbody>\n",
       "</table>\n",
       "</div>"
      ],
      "text/plain": [
       "state        Arizona  California   Florida  Illinois  Michigan  New York  \\\n",
       "Date                                                                       \n",
       "2000-01-01 -1.076861   -0.935545 -0.976846 -1.337203 -1.605740 -0.925962   \n",
       "2000-02-01 -1.076861   -0.935545 -0.976846 -1.337203 -1.644039 -0.925962   \n",
       "2000-03-01 -1.125778   -0.935545 -0.976846 -1.286217 -1.644039 -0.991993   \n",
       "2000-04-01 -1.125778   -0.894853 -0.976846 -1.286217 -1.605740 -0.991993   \n",
       "2000-05-01 -1.125778   -0.894853 -0.976846 -1.286217 -1.529141 -0.991993   \n",
       "\n",
       "state          Texas  \n",
       "Date                  \n",
       "2000-01-01 -0.849345  \n",
       "2000-02-01 -0.849345  \n",
       "2000-03-01 -0.926885  \n",
       "2000-04-01 -1.004424  \n",
       "2000-05-01 -1.081964  "
      ]
     },
     "execution_count": 23,
     "metadata": {},
     "output_type": "execute_result"
    }
   ],
   "source": [
    "#\n",
    "# Step 2: Apply our function via the apply method.\n",
    "#\n",
    "std_unemp = unemp.apply(standardize_data)\n",
    "std_unemp.head()"
   ]
  },
  {
   "cell_type": "code",
   "execution_count": 24,
   "id": "168a1c8d",
   "metadata": {
    "hide-output": false
   },
   "outputs": [
    {
     "data": {
      "text/html": [
       "<div>\n",
       "<style scoped>\n",
       "    .dataframe tbody tr th:only-of-type {\n",
       "        vertical-align: middle;\n",
       "    }\n",
       "\n",
       "    .dataframe tbody tr th {\n",
       "        vertical-align: top;\n",
       "    }\n",
       "\n",
       "    .dataframe thead th {\n",
       "        text-align: right;\n",
       "    }\n",
       "</style>\n",
       "<table border=\"1\" class=\"dataframe\">\n",
       "  <thead>\n",
       "    <tr style=\"text-align: right;\">\n",
       "      <th>state</th>\n",
       "      <th>Arizona</th>\n",
       "      <th>California</th>\n",
       "      <th>Florida</th>\n",
       "      <th>Illinois</th>\n",
       "      <th>Michigan</th>\n",
       "      <th>New York</th>\n",
       "      <th>Texas</th>\n",
       "    </tr>\n",
       "    <tr>\n",
       "      <th>Date</th>\n",
       "      <th></th>\n",
       "      <th></th>\n",
       "      <th></th>\n",
       "      <th></th>\n",
       "      <th></th>\n",
       "      <th></th>\n",
       "      <th></th>\n",
       "    </tr>\n",
       "  </thead>\n",
       "  <tbody>\n",
       "    <tr>\n",
       "      <th>2000-01-01</th>\n",
       "      <td>1.076861</td>\n",
       "      <td>0.935545</td>\n",
       "      <td>0.976846</td>\n",
       "      <td>1.337203</td>\n",
       "      <td>1.605740</td>\n",
       "      <td>0.925962</td>\n",
       "      <td>0.849345</td>\n",
       "    </tr>\n",
       "    <tr>\n",
       "      <th>2000-02-01</th>\n",
       "      <td>1.076861</td>\n",
       "      <td>0.935545</td>\n",
       "      <td>0.976846</td>\n",
       "      <td>1.337203</td>\n",
       "      <td>1.644039</td>\n",
       "      <td>0.925962</td>\n",
       "      <td>0.849345</td>\n",
       "    </tr>\n",
       "    <tr>\n",
       "      <th>2000-03-01</th>\n",
       "      <td>1.125778</td>\n",
       "      <td>0.935545</td>\n",
       "      <td>0.976846</td>\n",
       "      <td>1.286217</td>\n",
       "      <td>1.644039</td>\n",
       "      <td>0.991993</td>\n",
       "      <td>0.926885</td>\n",
       "    </tr>\n",
       "    <tr>\n",
       "      <th>2000-04-01</th>\n",
       "      <td>1.125778</td>\n",
       "      <td>0.894853</td>\n",
       "      <td>0.976846</td>\n",
       "      <td>1.286217</td>\n",
       "      <td>1.605740</td>\n",
       "      <td>0.991993</td>\n",
       "      <td>1.004424</td>\n",
       "    </tr>\n",
       "    <tr>\n",
       "      <th>2000-05-01</th>\n",
       "      <td>1.125778</td>\n",
       "      <td>0.894853</td>\n",
       "      <td>0.976846</td>\n",
       "      <td>1.286217</td>\n",
       "      <td>1.529141</td>\n",
       "      <td>0.991993</td>\n",
       "      <td>1.081964</td>\n",
       "    </tr>\n",
       "  </tbody>\n",
       "</table>\n",
       "</div>"
      ],
      "text/plain": [
       "state        Arizona  California   Florida  Illinois  Michigan  New York  \\\n",
       "Date                                                                       \n",
       "2000-01-01  1.076861    0.935545  0.976846  1.337203  1.605740  0.925962   \n",
       "2000-02-01  1.076861    0.935545  0.976846  1.337203  1.644039  0.925962   \n",
       "2000-03-01  1.125778    0.935545  0.976846  1.286217  1.644039  0.991993   \n",
       "2000-04-01  1.125778    0.894853  0.976846  1.286217  1.605740  0.991993   \n",
       "2000-05-01  1.125778    0.894853  0.976846  1.286217  1.529141  0.991993   \n",
       "\n",
       "state          Texas  \n",
       "Date                  \n",
       "2000-01-01  0.849345  \n",
       "2000-02-01  0.849345  \n",
       "2000-03-01  0.926885  \n",
       "2000-04-01  1.004424  \n",
       "2000-05-01  1.081964  "
      ]
     },
     "execution_count": 24,
     "metadata": {},
     "output_type": "execute_result"
    }
   ],
   "source": [
    "# Takes the absolute value of all elements of a function\n",
    "abs_std_unemp = std_unemp.abs()\n",
    "\n",
    "abs_std_unemp.head()"
   ]
  },
  {
   "cell_type": "code",
   "execution_count": 25,
   "id": "11866ab6",
   "metadata": {
    "hide-output": false
   },
   "outputs": [
    {
     "data": {
      "text/plain": [
       "state\n",
       "Arizona      2009-11-01\n",
       "California   2010-03-01\n",
       "Florida      2010-01-01\n",
       "Illinois     2009-12-01\n",
       "Michigan     2009-06-01\n",
       "New York     2009-11-01\n",
       "Texas        2009-08-01\n",
       "dtype: datetime64[ns]"
      ]
     },
     "execution_count": 25,
     "metadata": {},
     "output_type": "execute_result"
    }
   ],
   "source": [
    "# find the date when unemployment was \"most different from normal\" for each State\n",
    "def idxmax(x):\n",
    "    # idxmax of Series will return index of maximal value\n",
    "    return x.idxmax()\n",
    "\n",
    "abs_std_unemp.agg(idxmax)"
   ]
  },
  {
   "cell_type": "markdown",
   "id": "aac69ff9",
   "metadata": {},
   "source": [
    "### Custom Scalar Transforms\n",
    "\n",
    "As you may have predicted, we can also apply custom scalar transforms to our\n",
    "pandas data.\n",
    "\n",
    "To do this, we use the following pattern:\n",
    "\n",
    "1. Define a Python function that takes in a scalar and produces a scalar.  \n",
    "1. Pass this function as an argument to the `applymap` Series or DataFrame method.  \n",
    "\n",
    "\n",
    "Complete the exercise below to practice writing and using your own scalar\n",
    "transforms."
   ]
  },
  {
   "cell_type": "markdown",
   "id": "1003e97e",
   "metadata": {},
   "source": [
    "### Exercise\n",
    "\n",
    "See exercise 3 in the [exercise list](#pd-bas-ex)."
   ]
  },
  {
   "cell_type": "markdown",
   "id": "c7cc1b66",
   "metadata": {},
   "source": [
    "## Boolean Selection\n",
    "\n",
    "We have seen how we can select subsets of data by referring to the index\n",
    "or column names.\n",
    "\n",
    "However, we often want to select based on conditions met by\n",
    "the data itself.\n",
    "\n",
    "Some examples are:\n",
    "\n",
    "- Restrict analysis to all individuals older than 18.  \n",
    "- Look at data that corresponds to particular time periods.  \n",
    "- Analyze only data that corresponds to a recession.  \n",
    "- Obtain data for a specific product or customer ID.  \n",
    "\n",
    "\n",
    "We will be able to do this by using a Series or list of boolean values\n",
    "to index into a Series or DataFrame.\n",
    "\n",
    "Let’s look at some examples."
   ]
  },
  {
   "cell_type": "code",
   "execution_count": 26,
   "id": "0208883e",
   "metadata": {
    "hide-output": false
   },
   "outputs": [
    {
     "data": {
      "text/html": [
       "<div>\n",
       "<style scoped>\n",
       "    .dataframe tbody tr th:only-of-type {\n",
       "        vertical-align: middle;\n",
       "    }\n",
       "\n",
       "    .dataframe tbody tr th {\n",
       "        vertical-align: top;\n",
       "    }\n",
       "\n",
       "    .dataframe thead th {\n",
       "        text-align: right;\n",
       "    }\n",
       "</style>\n",
       "<table border=\"1\" class=\"dataframe\">\n",
       "  <thead>\n",
       "    <tr style=\"text-align: right;\">\n",
       "      <th>state</th>\n",
       "      <th>Arizona</th>\n",
       "      <th>California</th>\n",
       "      <th>Florida</th>\n",
       "      <th>Illinois</th>\n",
       "      <th>Michigan</th>\n",
       "      <th>New York</th>\n",
       "      <th>Texas</th>\n",
       "    </tr>\n",
       "    <tr>\n",
       "      <th>Date</th>\n",
       "      <th></th>\n",
       "      <th></th>\n",
       "      <th></th>\n",
       "      <th></th>\n",
       "      <th></th>\n",
       "      <th></th>\n",
       "      <th></th>\n",
       "    </tr>\n",
       "  </thead>\n",
       "  <tbody>\n",
       "    <tr>\n",
       "      <th>2000-01-01</th>\n",
       "      <td>4.1</td>\n",
       "      <td>5.0</td>\n",
       "      <td>3.7</td>\n",
       "      <td>4.2</td>\n",
       "      <td>3.3</td>\n",
       "      <td>4.7</td>\n",
       "      <td>4.6</td>\n",
       "    </tr>\n",
       "    <tr>\n",
       "      <th>2000-02-01</th>\n",
       "      <td>4.1</td>\n",
       "      <td>5.0</td>\n",
       "      <td>3.7</td>\n",
       "      <td>4.2</td>\n",
       "      <td>3.2</td>\n",
       "      <td>4.7</td>\n",
       "      <td>4.6</td>\n",
       "    </tr>\n",
       "    <tr>\n",
       "      <th>2000-03-01</th>\n",
       "      <td>4.0</td>\n",
       "      <td>5.0</td>\n",
       "      <td>3.7</td>\n",
       "      <td>4.3</td>\n",
       "      <td>3.2</td>\n",
       "      <td>4.6</td>\n",
       "      <td>4.5</td>\n",
       "    </tr>\n",
       "    <tr>\n",
       "      <th>2000-04-01</th>\n",
       "      <td>4.0</td>\n",
       "      <td>5.1</td>\n",
       "      <td>3.7</td>\n",
       "      <td>4.3</td>\n",
       "      <td>3.3</td>\n",
       "      <td>4.6</td>\n",
       "      <td>4.4</td>\n",
       "    </tr>\n",
       "    <tr>\n",
       "      <th>2000-05-01</th>\n",
       "      <td>4.0</td>\n",
       "      <td>5.1</td>\n",
       "      <td>3.7</td>\n",
       "      <td>4.3</td>\n",
       "      <td>3.5</td>\n",
       "      <td>4.6</td>\n",
       "      <td>4.3</td>\n",
       "    </tr>\n",
       "  </tbody>\n",
       "</table>\n",
       "</div>"
      ],
      "text/plain": [
       "state       Arizona  California  Florida  Illinois  Michigan  New York  Texas\n",
       "Date                                                                         \n",
       "2000-01-01      4.1         5.0      3.7       4.2       3.3       4.7    4.6\n",
       "2000-02-01      4.1         5.0      3.7       4.2       3.2       4.7    4.6\n",
       "2000-03-01      4.0         5.0      3.7       4.3       3.2       4.6    4.5\n",
       "2000-04-01      4.0         5.1      3.7       4.3       3.3       4.6    4.4\n",
       "2000-05-01      4.0         5.1      3.7       4.3       3.5       4.6    4.3"
      ]
     },
     "execution_count": 26,
     "metadata": {},
     "output_type": "execute_result"
    }
   ],
   "source": [
    "unemp_small = unemp.head()  # Create smaller data so we can see what's happening\n",
    "unemp_small"
   ]
  },
  {
   "cell_type": "code",
   "execution_count": 28,
   "id": "0645f013",
   "metadata": {
    "hide-output": false
   },
   "outputs": [
    {
     "data": {
      "text/html": [
       "<div>\n",
       "<style scoped>\n",
       "    .dataframe tbody tr th:only-of-type {\n",
       "        vertical-align: middle;\n",
       "    }\n",
       "\n",
       "    .dataframe tbody tr th {\n",
       "        vertical-align: top;\n",
       "    }\n",
       "\n",
       "    .dataframe thead th {\n",
       "        text-align: right;\n",
       "    }\n",
       "</style>\n",
       "<table border=\"1\" class=\"dataframe\">\n",
       "  <thead>\n",
       "    <tr style=\"text-align: right;\">\n",
       "      <th>state</th>\n",
       "      <th>Arizona</th>\n",
       "      <th>California</th>\n",
       "      <th>Florida</th>\n",
       "      <th>Illinois</th>\n",
       "      <th>Michigan</th>\n",
       "      <th>New York</th>\n",
       "      <th>Texas</th>\n",
       "    </tr>\n",
       "    <tr>\n",
       "      <th>Date</th>\n",
       "      <th></th>\n",
       "      <th></th>\n",
       "      <th></th>\n",
       "      <th></th>\n",
       "      <th></th>\n",
       "      <th></th>\n",
       "      <th></th>\n",
       "    </tr>\n",
       "  </thead>\n",
       "  <tbody>\n",
       "    <tr>\n",
       "      <th>2000-01-01</th>\n",
       "      <td>4.1</td>\n",
       "      <td>5.0</td>\n",
       "      <td>3.7</td>\n",
       "      <td>4.2</td>\n",
       "      <td>3.3</td>\n",
       "      <td>4.7</td>\n",
       "      <td>4.6</td>\n",
       "    </tr>\n",
       "    <tr>\n",
       "      <th>2000-02-01</th>\n",
       "      <td>4.1</td>\n",
       "      <td>5.0</td>\n",
       "      <td>3.7</td>\n",
       "      <td>4.2</td>\n",
       "      <td>3.2</td>\n",
       "      <td>4.7</td>\n",
       "      <td>4.6</td>\n",
       "    </tr>\n",
       "    <tr>\n",
       "      <th>2000-03-01</th>\n",
       "      <td>4.0</td>\n",
       "      <td>5.0</td>\n",
       "      <td>3.7</td>\n",
       "      <td>4.3</td>\n",
       "      <td>3.2</td>\n",
       "      <td>4.6</td>\n",
       "      <td>4.5</td>\n",
       "    </tr>\n",
       "  </tbody>\n",
       "</table>\n",
       "</div>"
      ],
      "text/plain": [
       "state       Arizona  California  Florida  Illinois  Michigan  New York  Texas\n",
       "Date                                                                         \n",
       "2000-01-01      4.1         5.0      3.7       4.2       3.3       4.7    4.6\n",
       "2000-02-01      4.1         5.0      3.7       4.2       3.2       4.7    4.6\n",
       "2000-03-01      4.0         5.0      3.7       4.3       3.2       4.6    4.5"
      ]
     },
     "execution_count": 28,
     "metadata": {},
     "output_type": "execute_result"
    }
   ],
   "source": [
    "# list of booleans selects rows\n",
    "unemp_small.loc[[True, True, True, False, False]] # only take the first 3 rows"
   ]
  },
  {
   "cell_type": "code",
   "execution_count": 29,
   "id": "defa340a",
   "metadata": {
    "hide-output": false
   },
   "outputs": [
    {
     "data": {
      "text/html": [
       "<div>\n",
       "<style scoped>\n",
       "    .dataframe tbody tr th:only-of-type {\n",
       "        vertical-align: middle;\n",
       "    }\n",
       "\n",
       "    .dataframe tbody tr th {\n",
       "        vertical-align: top;\n",
       "    }\n",
       "\n",
       "    .dataframe thead th {\n",
       "        text-align: right;\n",
       "    }\n",
       "</style>\n",
       "<table border=\"1\" class=\"dataframe\">\n",
       "  <thead>\n",
       "    <tr style=\"text-align: right;\">\n",
       "      <th>state</th>\n",
       "      <th>Arizona</th>\n",
       "      <th>California</th>\n",
       "      <th>Florida</th>\n",
       "      <th>Illinois</th>\n",
       "      <th>Michigan</th>\n",
       "      <th>New York</th>\n",
       "      <th>Texas</th>\n",
       "    </tr>\n",
       "    <tr>\n",
       "      <th>Date</th>\n",
       "      <th></th>\n",
       "      <th></th>\n",
       "      <th></th>\n",
       "      <th></th>\n",
       "      <th></th>\n",
       "      <th></th>\n",
       "      <th></th>\n",
       "    </tr>\n",
       "  </thead>\n",
       "  <tbody>\n",
       "    <tr>\n",
       "      <th>2000-01-01</th>\n",
       "      <td>4.1</td>\n",
       "      <td>5.0</td>\n",
       "      <td>3.7</td>\n",
       "      <td>4.2</td>\n",
       "      <td>3.3</td>\n",
       "      <td>4.7</td>\n",
       "      <td>4.6</td>\n",
       "    </tr>\n",
       "    <tr>\n",
       "      <th>2000-03-01</th>\n",
       "      <td>4.0</td>\n",
       "      <td>5.0</td>\n",
       "      <td>3.7</td>\n",
       "      <td>4.3</td>\n",
       "      <td>3.2</td>\n",
       "      <td>4.6</td>\n",
       "      <td>4.5</td>\n",
       "    </tr>\n",
       "    <tr>\n",
       "      <th>2000-05-01</th>\n",
       "      <td>4.0</td>\n",
       "      <td>5.1</td>\n",
       "      <td>3.7</td>\n",
       "      <td>4.3</td>\n",
       "      <td>3.5</td>\n",
       "      <td>4.6</td>\n",
       "      <td>4.3</td>\n",
       "    </tr>\n",
       "  </tbody>\n",
       "</table>\n",
       "</div>"
      ],
      "text/plain": [
       "state       Arizona  California  Florida  Illinois  Michigan  New York  Texas\n",
       "Date                                                                         \n",
       "2000-01-01      4.1         5.0      3.7       4.2       3.3       4.7    4.6\n",
       "2000-03-01      4.0         5.0      3.7       4.3       3.2       4.6    4.5\n",
       "2000-05-01      4.0         5.1      3.7       4.3       3.5       4.6    4.3"
      ]
     },
     "execution_count": 29,
     "metadata": {},
     "output_type": "execute_result"
    }
   ],
   "source": [
    "# second argument selects columns, the  ``:``  means \"all\".\n",
    "# here we use it to select all columns\n",
    "unemp_small.loc[[True, False, True, False, True], :]"
   ]
  },
  {
   "cell_type": "code",
   "execution_count": 30,
   "id": "b0446061",
   "metadata": {
    "hide-output": false
   },
   "outputs": [
    {
     "data": {
      "text/html": [
       "<div>\n",
       "<style scoped>\n",
       "    .dataframe tbody tr th:only-of-type {\n",
       "        vertical-align: middle;\n",
       "    }\n",
       "\n",
       "    .dataframe tbody tr th {\n",
       "        vertical-align: top;\n",
       "    }\n",
       "\n",
       "    .dataframe thead th {\n",
       "        text-align: right;\n",
       "    }\n",
       "</style>\n",
       "<table border=\"1\" class=\"dataframe\">\n",
       "  <thead>\n",
       "    <tr style=\"text-align: right;\">\n",
       "      <th>state</th>\n",
       "      <th>Arizona</th>\n",
       "      <th>New York</th>\n",
       "      <th>Texas</th>\n",
       "    </tr>\n",
       "    <tr>\n",
       "      <th>Date</th>\n",
       "      <th></th>\n",
       "      <th></th>\n",
       "      <th></th>\n",
       "    </tr>\n",
       "  </thead>\n",
       "  <tbody>\n",
       "    <tr>\n",
       "      <th>2000-01-01</th>\n",
       "      <td>4.1</td>\n",
       "      <td>4.7</td>\n",
       "      <td>4.6</td>\n",
       "    </tr>\n",
       "    <tr>\n",
       "      <th>2000-02-01</th>\n",
       "      <td>4.1</td>\n",
       "      <td>4.7</td>\n",
       "      <td>4.6</td>\n",
       "    </tr>\n",
       "    <tr>\n",
       "      <th>2000-03-01</th>\n",
       "      <td>4.0</td>\n",
       "      <td>4.6</td>\n",
       "      <td>4.5</td>\n",
       "    </tr>\n",
       "  </tbody>\n",
       "</table>\n",
       "</div>"
      ],
      "text/plain": [
       "state       Arizona  New York  Texas\n",
       "Date                                \n",
       "2000-01-01      4.1       4.7    4.6\n",
       "2000-02-01      4.1       4.7    4.6\n",
       "2000-03-01      4.0       4.6    4.5"
      ]
     },
     "execution_count": 30,
     "metadata": {},
     "output_type": "execute_result"
    }
   ],
   "source": [
    "# can use booleans to select both rows and columns\n",
    "unemp_small.loc[[True, True, True, False, False], [True, False, False, False, False, True, True]]"
   ]
  },
  {
   "cell_type": "markdown",
   "id": "0e271357",
   "metadata": {},
   "source": [
    "### Creating Boolean DataFrames/Series\n",
    "\n",
    "We can use [conditional statements](https://datascience.quantecon.org/../python_fundamentals/control_flow.html) to\n",
    "construct Series of booleans from our data."
   ]
  },
  {
   "cell_type": "code",
   "execution_count": 31,
   "id": "2e14e8b1",
   "metadata": {
    "hide-output": false
   },
   "outputs": [
    {
     "data": {
      "text/plain": [
       "Date\n",
       "2000-01-01    False\n",
       "2000-02-01    False\n",
       "2000-03-01    False\n",
       "2000-04-01     True\n",
       "2000-05-01     True\n",
       "Name: Texas, dtype: bool"
      ]
     },
     "execution_count": 31,
     "metadata": {},
     "output_type": "execute_result"
    }
   ],
   "source": [
    "unemp_small[\"Texas\"] < 4.5 # check each value in the column "
   ]
  },
  {
   "cell_type": "markdown",
   "id": "d6df1a8c",
   "metadata": {},
   "source": [
    "Once we have our Series of bools, we can use it to extract subsets of\n",
    "rows from our DataFrame."
   ]
  },
  {
   "cell_type": "code",
   "execution_count": 32,
   "id": "b6693107",
   "metadata": {
    "hide-output": false
   },
   "outputs": [
    {
     "data": {
      "text/html": [
       "<div>\n",
       "<style scoped>\n",
       "    .dataframe tbody tr th:only-of-type {\n",
       "        vertical-align: middle;\n",
       "    }\n",
       "\n",
       "    .dataframe tbody tr th {\n",
       "        vertical-align: top;\n",
       "    }\n",
       "\n",
       "    .dataframe thead th {\n",
       "        text-align: right;\n",
       "    }\n",
       "</style>\n",
       "<table border=\"1\" class=\"dataframe\">\n",
       "  <thead>\n",
       "    <tr style=\"text-align: right;\">\n",
       "      <th>state</th>\n",
       "      <th>Arizona</th>\n",
       "      <th>California</th>\n",
       "      <th>Florida</th>\n",
       "      <th>Illinois</th>\n",
       "      <th>Michigan</th>\n",
       "      <th>New York</th>\n",
       "      <th>Texas</th>\n",
       "    </tr>\n",
       "    <tr>\n",
       "      <th>Date</th>\n",
       "      <th></th>\n",
       "      <th></th>\n",
       "      <th></th>\n",
       "      <th></th>\n",
       "      <th></th>\n",
       "      <th></th>\n",
       "      <th></th>\n",
       "    </tr>\n",
       "  </thead>\n",
       "  <tbody>\n",
       "    <tr>\n",
       "      <th>2000-04-01</th>\n",
       "      <td>4.0</td>\n",
       "      <td>5.1</td>\n",
       "      <td>3.7</td>\n",
       "      <td>4.3</td>\n",
       "      <td>3.3</td>\n",
       "      <td>4.6</td>\n",
       "      <td>4.4</td>\n",
       "    </tr>\n",
       "    <tr>\n",
       "      <th>2000-05-01</th>\n",
       "      <td>4.0</td>\n",
       "      <td>5.1</td>\n",
       "      <td>3.7</td>\n",
       "      <td>4.3</td>\n",
       "      <td>3.5</td>\n",
       "      <td>4.6</td>\n",
       "      <td>4.3</td>\n",
       "    </tr>\n",
       "  </tbody>\n",
       "</table>\n",
       "</div>"
      ],
      "text/plain": [
       "state       Arizona  California  Florida  Illinois  Michigan  New York  Texas\n",
       "Date                                                                         \n",
       "2000-04-01      4.0         5.1      3.7       4.3       3.3       4.6    4.4\n",
       "2000-05-01      4.0         5.1      3.7       4.3       3.5       4.6    4.3"
      ]
     },
     "execution_count": 32,
     "metadata": {},
     "output_type": "execute_result"
    }
   ],
   "source": [
    "unemp_small.loc[unemp_small[\"Texas\"] < 4.5]"
   ]
  },
  {
   "cell_type": "code",
   "execution_count": 33,
   "id": "d7bd404f",
   "metadata": {
    "hide-output": false
   },
   "outputs": [
    {
     "data": {
      "text/plain": [
       "Date\n",
       "2000-01-01    True\n",
       "2000-02-01    True\n",
       "2000-03-01    True\n",
       "2000-04-01    True\n",
       "2000-05-01    True\n",
       "dtype: bool"
      ]
     },
     "execution_count": 33,
     "metadata": {},
     "output_type": "execute_result"
    }
   ],
   "source": [
    "unemp_small[\"New York\"] > unemp_small[\"Texas\"]"
   ]
  },
  {
   "cell_type": "code",
   "execution_count": 34,
   "id": "88d8faed",
   "metadata": {
    "hide-output": false
   },
   "outputs": [
    {
     "data": {
      "text/html": [
       "<div>\n",
       "<style scoped>\n",
       "    .dataframe tbody tr th:only-of-type {\n",
       "        vertical-align: middle;\n",
       "    }\n",
       "\n",
       "    .dataframe tbody tr th {\n",
       "        vertical-align: top;\n",
       "    }\n",
       "\n",
       "    .dataframe thead th {\n",
       "        text-align: right;\n",
       "    }\n",
       "</style>\n",
       "<table border=\"1\" class=\"dataframe\">\n",
       "  <thead>\n",
       "    <tr style=\"text-align: right;\">\n",
       "      <th>state</th>\n",
       "      <th>Arizona</th>\n",
       "      <th>California</th>\n",
       "      <th>Florida</th>\n",
       "      <th>Illinois</th>\n",
       "      <th>Michigan</th>\n",
       "      <th>New York</th>\n",
       "      <th>Texas</th>\n",
       "    </tr>\n",
       "    <tr>\n",
       "      <th>Date</th>\n",
       "      <th></th>\n",
       "      <th></th>\n",
       "      <th></th>\n",
       "      <th></th>\n",
       "      <th></th>\n",
       "      <th></th>\n",
       "      <th></th>\n",
       "    </tr>\n",
       "  </thead>\n",
       "  <tbody>\n",
       "    <tr>\n",
       "      <th>2000-01-01</th>\n",
       "      <td>4.1</td>\n",
       "      <td>5.0</td>\n",
       "      <td>3.7</td>\n",
       "      <td>4.2</td>\n",
       "      <td>3.3</td>\n",
       "      <td>4.7</td>\n",
       "      <td>4.6</td>\n",
       "    </tr>\n",
       "    <tr>\n",
       "      <th>2000-02-01</th>\n",
       "      <td>4.1</td>\n",
       "      <td>5.0</td>\n",
       "      <td>3.7</td>\n",
       "      <td>4.2</td>\n",
       "      <td>3.2</td>\n",
       "      <td>4.7</td>\n",
       "      <td>4.6</td>\n",
       "    </tr>\n",
       "    <tr>\n",
       "      <th>2000-03-01</th>\n",
       "      <td>4.0</td>\n",
       "      <td>5.0</td>\n",
       "      <td>3.7</td>\n",
       "      <td>4.3</td>\n",
       "      <td>3.2</td>\n",
       "      <td>4.6</td>\n",
       "      <td>4.5</td>\n",
       "    </tr>\n",
       "    <tr>\n",
       "      <th>2000-04-01</th>\n",
       "      <td>4.0</td>\n",
       "      <td>5.1</td>\n",
       "      <td>3.7</td>\n",
       "      <td>4.3</td>\n",
       "      <td>3.3</td>\n",
       "      <td>4.6</td>\n",
       "      <td>4.4</td>\n",
       "    </tr>\n",
       "    <tr>\n",
       "      <th>2000-05-01</th>\n",
       "      <td>4.0</td>\n",
       "      <td>5.1</td>\n",
       "      <td>3.7</td>\n",
       "      <td>4.3</td>\n",
       "      <td>3.5</td>\n",
       "      <td>4.6</td>\n",
       "      <td>4.3</td>\n",
       "    </tr>\n",
       "  </tbody>\n",
       "</table>\n",
       "</div>"
      ],
      "text/plain": [
       "state       Arizona  California  Florida  Illinois  Michigan  New York  Texas\n",
       "Date                                                                         \n",
       "2000-01-01      4.1         5.0      3.7       4.2       3.3       4.7    4.6\n",
       "2000-02-01      4.1         5.0      3.7       4.2       3.2       4.7    4.6\n",
       "2000-03-01      4.0         5.0      3.7       4.3       3.2       4.6    4.5\n",
       "2000-04-01      4.0         5.1      3.7       4.3       3.3       4.6    4.4\n",
       "2000-05-01      4.0         5.1      3.7       4.3       3.5       4.6    4.3"
      ]
     },
     "execution_count": 34,
     "metadata": {},
     "output_type": "execute_result"
    }
   ],
   "source": [
    "big_NY = unemp_small[\"New York\"] > unemp_small[\"Texas\"]\n",
    "unemp_small.loc[big_NY] "
   ]
  },
  {
   "cell_type": "markdown",
   "id": "e795f4c0",
   "metadata": {},
   "source": [
    "#### Multiple Conditions\n",
    "\n",
    "In the boolean section of the [basics lecture](https://datascience.quantecon.org/../python_fundamentals/basics.html), we saw\n",
    "that we can use the words `and` and `or` to combine multiple booleans into\n",
    "a single bool.\n",
    "\n",
    "Recall:\n",
    "\n",
    "- `True and False -> False`  \n",
    "- `True and True -> True`  \n",
    "- `False and False -> False`  \n",
    "- `True or False -> True`  \n",
    "- `True or True -> True`  \n",
    "- `False or False -> False`  \n",
    "\n",
    "\n",
    "We can do something similar in pandas, but instead of\n",
    "`bool1 and bool2` we write:"
   ]
  },
  {
   "cell_type": "code",
   "execution_count": 35,
   "id": "faa70136",
   "metadata": {
    "hide-output": false
   },
   "outputs": [
    {
     "ename": "NameError",
     "evalue": "name 'bool_series1' is not defined",
     "output_type": "error",
     "traceback": [
      "\u001b[0;31m---------------------------------------------------------------------------\u001b[0m",
      "\u001b[0;31mNameError\u001b[0m                                 Traceback (most recent call last)",
      "Cell \u001b[0;32mIn[35], line 1\u001b[0m\n\u001b[0;32m----> 1\u001b[0m (\u001b[43mbool_series1\u001b[49m) \u001b[38;5;241m&\u001b[39m (bool_series2)\n",
      "\u001b[0;31mNameError\u001b[0m: name 'bool_series1' is not defined"
     ]
    }
   ],
   "source": [
    "(bool_series1) & (bool_series2)"
   ]
  },
  {
   "cell_type": "markdown",
   "id": "5674996d",
   "metadata": {},
   "source": [
    "Likewise, instead of `bool1 or bool2` we write:"
   ]
  },
  {
   "cell_type": "code",
   "execution_count": 36,
   "id": "3074cfcf",
   "metadata": {
    "hide-output": false
   },
   "outputs": [
    {
     "ename": "NameError",
     "evalue": "name 'bool_series1' is not defined",
     "output_type": "error",
     "traceback": [
      "\u001b[0;31m---------------------------------------------------------------------------\u001b[0m",
      "\u001b[0;31mNameError\u001b[0m                                 Traceback (most recent call last)",
      "Cell \u001b[0;32mIn[36], line 1\u001b[0m\n\u001b[0;32m----> 1\u001b[0m (\u001b[43mbool_series1\u001b[49m) \u001b[38;5;241m|\u001b[39m (bool_series2)\n",
      "\u001b[0;31mNameError\u001b[0m: name 'bool_series1' is not defined"
     ]
    }
   ],
   "source": [
    "(bool_series1) | (bool_series2)"
   ]
  },
  {
   "cell_type": "code",
   "execution_count": 37,
   "id": "a6a0cdb5",
   "metadata": {
    "hide-output": false
   },
   "outputs": [
    {
     "data": {
      "text/plain": [
       "Date\n",
       "2000-01-01    False\n",
       "2000-02-01    False\n",
       "2000-03-01     True\n",
       "2000-04-01     True\n",
       "2000-05-01     True\n",
       "dtype: bool"
      ]
     },
     "execution_count": 37,
     "metadata": {},
     "output_type": "execute_result"
    }
   ],
   "source": [
    "small_NYTX = (unemp_small[\"Texas\"] < 4.7) & (unemp_small[\"New York\"] < 4.7)\n",
    "small_NYTX"
   ]
  },
  {
   "cell_type": "code",
   "execution_count": 38,
   "id": "036241d6",
   "metadata": {
    "hide-output": false
   },
   "outputs": [
    {
     "data": {
      "text/html": [
       "<div>\n",
       "<style scoped>\n",
       "    .dataframe tbody tr th:only-of-type {\n",
       "        vertical-align: middle;\n",
       "    }\n",
       "\n",
       "    .dataframe tbody tr th {\n",
       "        vertical-align: top;\n",
       "    }\n",
       "\n",
       "    .dataframe thead th {\n",
       "        text-align: right;\n",
       "    }\n",
       "</style>\n",
       "<table border=\"1\" class=\"dataframe\">\n",
       "  <thead>\n",
       "    <tr style=\"text-align: right;\">\n",
       "      <th>state</th>\n",
       "      <th>Arizona</th>\n",
       "      <th>California</th>\n",
       "      <th>Florida</th>\n",
       "      <th>Illinois</th>\n",
       "      <th>Michigan</th>\n",
       "      <th>New York</th>\n",
       "      <th>Texas</th>\n",
       "    </tr>\n",
       "    <tr>\n",
       "      <th>Date</th>\n",
       "      <th></th>\n",
       "      <th></th>\n",
       "      <th></th>\n",
       "      <th></th>\n",
       "      <th></th>\n",
       "      <th></th>\n",
       "      <th></th>\n",
       "    </tr>\n",
       "  </thead>\n",
       "  <tbody>\n",
       "    <tr>\n",
       "      <th>2000-03-01</th>\n",
       "      <td>4.0</td>\n",
       "      <td>5.0</td>\n",
       "      <td>3.7</td>\n",
       "      <td>4.3</td>\n",
       "      <td>3.2</td>\n",
       "      <td>4.6</td>\n",
       "      <td>4.5</td>\n",
       "    </tr>\n",
       "    <tr>\n",
       "      <th>2000-04-01</th>\n",
       "      <td>4.0</td>\n",
       "      <td>5.1</td>\n",
       "      <td>3.7</td>\n",
       "      <td>4.3</td>\n",
       "      <td>3.3</td>\n",
       "      <td>4.6</td>\n",
       "      <td>4.4</td>\n",
       "    </tr>\n",
       "    <tr>\n",
       "      <th>2000-05-01</th>\n",
       "      <td>4.0</td>\n",
       "      <td>5.1</td>\n",
       "      <td>3.7</td>\n",
       "      <td>4.3</td>\n",
       "      <td>3.5</td>\n",
       "      <td>4.6</td>\n",
       "      <td>4.3</td>\n",
       "    </tr>\n",
       "  </tbody>\n",
       "</table>\n",
       "</div>"
      ],
      "text/plain": [
       "state       Arizona  California  Florida  Illinois  Michigan  New York  Texas\n",
       "Date                                                                         \n",
       "2000-03-01      4.0         5.0      3.7       4.3       3.2       4.6    4.5\n",
       "2000-04-01      4.0         5.1      3.7       4.3       3.3       4.6    4.4\n",
       "2000-05-01      4.0         5.1      3.7       4.3       3.5       4.6    4.3"
      ]
     },
     "execution_count": 38,
     "metadata": {},
     "output_type": "execute_result"
    }
   ],
   "source": [
    "unemp_small[small_NYTX]"
   ]
  },
  {
   "cell_type": "markdown",
   "id": "b594cef8",
   "metadata": {},
   "source": [
    "#### `isin`\n",
    "\n",
    "Sometimes, we will want to check whether a data point takes on one of a\n",
    "several fixed values.\n",
    "\n",
    "We could do this by writing `(df[\"x\"] == val_1) | (df[\"x\"] == val_2)`\n",
    "(like we did above), but there is a better way: the `.isin` method"
   ]
  },
  {
   "cell_type": "code",
   "execution_count": 39,
   "id": "42783d3e",
   "metadata": {
    "hide-output": false
   },
   "outputs": [
    {
     "data": {
      "text/plain": [
       "Date\n",
       "2000-01-01     True\n",
       "2000-02-01     True\n",
       "2000-03-01     True\n",
       "2000-04-01     True\n",
       "2000-05-01    False\n",
       "Name: Michigan, dtype: bool"
      ]
     },
     "execution_count": 39,
     "metadata": {},
     "output_type": "execute_result"
    }
   ],
   "source": [
    "unemp_small[\"Michigan\"].isin([3.3, 3.2])"
   ]
  },
  {
   "cell_type": "code",
   "execution_count": 40,
   "id": "f5d4e49a",
   "metadata": {
    "hide-output": false
   },
   "outputs": [
    {
     "data": {
      "text/html": [
       "<div>\n",
       "<style scoped>\n",
       "    .dataframe tbody tr th:only-of-type {\n",
       "        vertical-align: middle;\n",
       "    }\n",
       "\n",
       "    .dataframe tbody tr th {\n",
       "        vertical-align: top;\n",
       "    }\n",
       "\n",
       "    .dataframe thead th {\n",
       "        text-align: right;\n",
       "    }\n",
       "</style>\n",
       "<table border=\"1\" class=\"dataframe\">\n",
       "  <thead>\n",
       "    <tr style=\"text-align: right;\">\n",
       "      <th>state</th>\n",
       "      <th>Arizona</th>\n",
       "      <th>California</th>\n",
       "      <th>Florida</th>\n",
       "      <th>Illinois</th>\n",
       "      <th>Michigan</th>\n",
       "      <th>New York</th>\n",
       "      <th>Texas</th>\n",
       "    </tr>\n",
       "    <tr>\n",
       "      <th>Date</th>\n",
       "      <th></th>\n",
       "      <th></th>\n",
       "      <th></th>\n",
       "      <th></th>\n",
       "      <th></th>\n",
       "      <th></th>\n",
       "      <th></th>\n",
       "    </tr>\n",
       "  </thead>\n",
       "  <tbody>\n",
       "    <tr>\n",
       "      <th>2000-01-01</th>\n",
       "      <td>4.1</td>\n",
       "      <td>5.0</td>\n",
       "      <td>3.7</td>\n",
       "      <td>4.2</td>\n",
       "      <td>3.3</td>\n",
       "      <td>4.7</td>\n",
       "      <td>4.6</td>\n",
       "    </tr>\n",
       "    <tr>\n",
       "      <th>2000-02-01</th>\n",
       "      <td>4.1</td>\n",
       "      <td>5.0</td>\n",
       "      <td>3.7</td>\n",
       "      <td>4.2</td>\n",
       "      <td>3.2</td>\n",
       "      <td>4.7</td>\n",
       "      <td>4.6</td>\n",
       "    </tr>\n",
       "    <tr>\n",
       "      <th>2000-03-01</th>\n",
       "      <td>4.0</td>\n",
       "      <td>5.0</td>\n",
       "      <td>3.7</td>\n",
       "      <td>4.3</td>\n",
       "      <td>3.2</td>\n",
       "      <td>4.6</td>\n",
       "      <td>4.5</td>\n",
       "    </tr>\n",
       "    <tr>\n",
       "      <th>2000-04-01</th>\n",
       "      <td>4.0</td>\n",
       "      <td>5.1</td>\n",
       "      <td>3.7</td>\n",
       "      <td>4.3</td>\n",
       "      <td>3.3</td>\n",
       "      <td>4.6</td>\n",
       "      <td>4.4</td>\n",
       "    </tr>\n",
       "  </tbody>\n",
       "</table>\n",
       "</div>"
      ],
      "text/plain": [
       "state       Arizona  California  Florida  Illinois  Michigan  New York  Texas\n",
       "Date                                                                         \n",
       "2000-01-01      4.1         5.0      3.7       4.2       3.3       4.7    4.6\n",
       "2000-02-01      4.1         5.0      3.7       4.2       3.2       4.7    4.6\n",
       "2000-03-01      4.0         5.0      3.7       4.3       3.2       4.6    4.5\n",
       "2000-04-01      4.0         5.1      3.7       4.3       3.3       4.6    4.4"
      ]
     },
     "execution_count": 40,
     "metadata": {},
     "output_type": "execute_result"
    }
   ],
   "source": [
    "# now select full rows where this Series is True\n",
    "unemp_small.loc[unemp_small[\"Michigan\"].isin([3.3, 3.2])]"
   ]
  },
  {
   "cell_type": "markdown",
   "id": "7147f214",
   "metadata": {},
   "source": [
    "#### `.any` and `.all`\n",
    "\n",
    "Recall from the boolean section of the [basics lecture](https://datascience.quantecon.org/../python_fundamentals/basics.html)\n",
    "that the Python functions `any` and `all` are aggregation functions that\n",
    "take a collection of booleans and return a single boolean.\n",
    "\n",
    "`any` returns True whenever at least one of the inputs are True while\n",
    "`all` is True only when all the inputs are `True`.\n",
    "\n",
    "Series and DataFrames with `dtype` bool have `.any` and `.all`\n",
    "methods that apply this logic to pandas objects.\n",
    "\n",
    "Let’s use these methods to count how many months all the states in our\n",
    "sample had high unemployment.\n",
    "\n",
    "As we work through this example, consider the [“want\n",
    "operator”](http://albertjmenkveld.com/2014/07/07/endogeneous-price-dispersion/), a helpful\n",
    "concept from Nobel Laureate [Tom\n",
    "Sargent](http://www.tomsargent.com) for clearly stating the goal of our analysis and\n",
    "determining the steps necessary to reach the goal.\n",
    "\n",
    "We always begin by writing `Want:` followed by what we want to\n",
    "accomplish.\n",
    "\n",
    "In this case, we would write:\n",
    "\n",
    "> Want: Count the number of months in which all states in our sample\n",
    "had unemployment above 6.5%\n",
    "\n",
    "\n",
    "After identifying the **want**, we work *backwards* to identify the\n",
    "steps necessary to accomplish our goal.\n",
    "\n",
    "So, starting from the result, we have:\n",
    "\n",
    "1. Sum the number of `True` values in a Series indicating dates for\n",
    "  which all states had high unemployment.  \n",
    "1. Build the Series used in the last step by using the `.all` method\n",
    "  on a DataFrame containing booleans indicating whether each state had\n",
    "  high unemployment at each date.  \n",
    "1. Build the DataFrame used in the previous step using a `>`\n",
    "  comparison.  \n",
    "\n",
    "\n",
    "Now that we have a clear plan, let’s follow through and *apply* the want\n",
    "operator:"
   ]
  },
  {
   "cell_type": "code",
   "execution_count": 41,
   "id": "5bd1c130",
   "metadata": {
    "hide-output": false
   },
   "outputs": [
    {
     "data": {
      "text/html": [
       "<div>\n",
       "<style scoped>\n",
       "    .dataframe tbody tr th:only-of-type {\n",
       "        vertical-align: middle;\n",
       "    }\n",
       "\n",
       "    .dataframe tbody tr th {\n",
       "        vertical-align: top;\n",
       "    }\n",
       "\n",
       "    .dataframe thead th {\n",
       "        text-align: right;\n",
       "    }\n",
       "</style>\n",
       "<table border=\"1\" class=\"dataframe\">\n",
       "  <thead>\n",
       "    <tr style=\"text-align: right;\">\n",
       "      <th>state</th>\n",
       "      <th>Arizona</th>\n",
       "      <th>California</th>\n",
       "      <th>Florida</th>\n",
       "      <th>Illinois</th>\n",
       "      <th>Michigan</th>\n",
       "      <th>New York</th>\n",
       "      <th>Texas</th>\n",
       "    </tr>\n",
       "    <tr>\n",
       "      <th>Date</th>\n",
       "      <th></th>\n",
       "      <th></th>\n",
       "      <th></th>\n",
       "      <th></th>\n",
       "      <th></th>\n",
       "      <th></th>\n",
       "      <th></th>\n",
       "    </tr>\n",
       "  </thead>\n",
       "  <tbody>\n",
       "    <tr>\n",
       "      <th>2000-01-01</th>\n",
       "      <td>False</td>\n",
       "      <td>False</td>\n",
       "      <td>False</td>\n",
       "      <td>False</td>\n",
       "      <td>False</td>\n",
       "      <td>False</td>\n",
       "      <td>False</td>\n",
       "    </tr>\n",
       "    <tr>\n",
       "      <th>2000-02-01</th>\n",
       "      <td>False</td>\n",
       "      <td>False</td>\n",
       "      <td>False</td>\n",
       "      <td>False</td>\n",
       "      <td>False</td>\n",
       "      <td>False</td>\n",
       "      <td>False</td>\n",
       "    </tr>\n",
       "    <tr>\n",
       "      <th>2000-03-01</th>\n",
       "      <td>False</td>\n",
       "      <td>False</td>\n",
       "      <td>False</td>\n",
       "      <td>False</td>\n",
       "      <td>False</td>\n",
       "      <td>False</td>\n",
       "      <td>False</td>\n",
       "    </tr>\n",
       "    <tr>\n",
       "      <th>2000-04-01</th>\n",
       "      <td>False</td>\n",
       "      <td>False</td>\n",
       "      <td>False</td>\n",
       "      <td>False</td>\n",
       "      <td>False</td>\n",
       "      <td>False</td>\n",
       "      <td>False</td>\n",
       "    </tr>\n",
       "    <tr>\n",
       "      <th>2000-05-01</th>\n",
       "      <td>False</td>\n",
       "      <td>False</td>\n",
       "      <td>False</td>\n",
       "      <td>False</td>\n",
       "      <td>False</td>\n",
       "      <td>False</td>\n",
       "      <td>False</td>\n",
       "    </tr>\n",
       "  </tbody>\n",
       "</table>\n",
       "</div>"
      ],
      "text/plain": [
       "state       Arizona  California  Florida  Illinois  Michigan  New York  Texas\n",
       "Date                                                                         \n",
       "2000-01-01    False       False    False     False     False     False  False\n",
       "2000-02-01    False       False    False     False     False     False  False\n",
       "2000-03-01    False       False    False     False     False     False  False\n",
       "2000-04-01    False       False    False     False     False     False  False\n",
       "2000-05-01    False       False    False     False     False     False  False"
      ]
     },
     "execution_count": 41,
     "metadata": {},
     "output_type": "execute_result"
    }
   ],
   "source": [
    "# Step 3: construct the DataFrame of bools\n",
    "high = unemp > 6.5\n",
    "high.head()"
   ]
  },
  {
   "cell_type": "code",
   "execution_count": 44,
   "id": "4e4c63b5",
   "metadata": {
    "hide-output": false
   },
   "outputs": [
    {
     "data": {
      "text/plain": [
       "Date\n",
       "2000-01-01    False\n",
       "2000-02-01    False\n",
       "2000-03-01    False\n",
       "2000-04-01    False\n",
       "2000-05-01    False\n",
       "dtype: bool"
      ]
     },
     "execution_count": 44,
     "metadata": {},
     "output_type": "execute_result"
    }
   ],
   "source": [
    "# Step 2: use the .all method on axis=1 to get the dates where all states have a True\n",
    "all_high = high.all(axis=1)\n",
    "all_high.head()"
   ]
  },
  {
   "cell_type": "code",
   "execution_count": 45,
   "id": "7850eb5f",
   "metadata": {
    "hide-output": false
   },
   "outputs": [
    {
     "name": "stdout",
     "output_type": "stream",
     "text": [
      "Out of 216 months, 41 had high unemployment across all states\n"
     ]
    }
   ],
   "source": [
    "# Step 1: Call .sum to add up the number of True values in `all_high`\n",
    "#         (note that True == 1 and False == 0 in Python, so .sum will count Trues)\n",
    "msg = \"Out of {} months, {} had high unemployment across all states\"\n",
    "print(msg.format(len(all_high), all_high.sum()))"
   ]
  },
  {
   "cell_type": "markdown",
   "id": "d576b52c",
   "metadata": {},
   "source": [
    "#### Exercise\n",
    "\n",
    "See exercise 4 in the [exercise list](#pd-bas-ex).\n",
    "\n",
    "\n",
    "<a id='pd-bas-ex'></a>"
   ]
  },
  {
   "cell_type": "markdown",
   "id": "f563ddf5",
   "metadata": {},
   "source": [
    "## Exercises"
   ]
  },
  {
   "cell_type": "markdown",
   "id": "7301b762",
   "metadata": {},
   "source": [
    "### Exercise 1\n",
    "\n",
    "Looking at the displayed DataFrame above, can you identify the index? The columns?\n",
    "\n",
    "You can use the cell below to verify your visual intuition."
   ]
  },
  {
   "cell_type": "code",
   "execution_count": null,
   "id": "cac163a7",
   "metadata": {
    "hide-output": false
   },
   "outputs": [],
   "source": [
    "# your code here"
   ]
  },
  {
   "cell_type": "markdown",
   "id": "92b36cb9",
   "metadata": {},
   "source": [
    "([back to text](#pd-bas-dir1))"
   ]
  },
  {
   "cell_type": "markdown",
   "id": "31fb5a00",
   "metadata": {},
   "source": [
    "### Exercise 2\n",
    "\n",
    "Do the following exercises in separate code cells below:\n",
    "\n",
    "- At each date, what is the minimum unemployment rate across all states\n",
    "  in our sample?  \n",
    "- What was the median unemployment rate in each state?  \n",
    "- What was the maximum unemployment rate across the states in our\n",
    "  sample? What state did it happen in? In what month/year was this\n",
    "  achieved?  \n",
    "  - What Python type (not `dtype`) is returned by the aggregation?  \n",
    "  - Read documentation for the method `idxmax`.  \n",
    "- Classify each state as high or low volatility based on whether the\n",
    "  variance of their unemployment is above or below 4.  "
   ]
  },
  {
   "cell_type": "code",
   "execution_count": null,
   "id": "d68e84b8",
   "metadata": {
    "hide-output": false
   },
   "outputs": [],
   "source": [
    "# min unemployment rate by state"
   ]
  },
  {
   "cell_type": "code",
   "execution_count": null,
   "id": "45b822a8",
   "metadata": {
    "hide-output": false
   },
   "outputs": [],
   "source": [
    "# median unemployment rate by state"
   ]
  },
  {
   "cell_type": "code",
   "execution_count": null,
   "id": "abbd45d1",
   "metadata": {
    "hide-output": false
   },
   "outputs": [],
   "source": [
    "# max unemployment rate across all states and Year"
   ]
  },
  {
   "cell_type": "code",
   "execution_count": null,
   "id": "19106410",
   "metadata": {
    "hide-output": false
   },
   "outputs": [],
   "source": [
    "# low or high volatility"
   ]
  },
  {
   "cell_type": "markdown",
   "id": "f38392e1",
   "metadata": {},
   "source": [
    "([back to text](#pd-bas-dir2))"
   ]
  },
  {
   "cell_type": "markdown",
   "id": "01c1c0d1",
   "metadata": {},
   "source": [
    "### Exercise 3\n",
    "\n",
    "Imagine that we want to determine whether unemployment was high (> 6.5),\n",
    "medium (4.5 < x <= 6.5), or low (<= 4.5) for each state and each month.\n",
    "\n",
    "1. Write a Python function that takes a single number as an input and\n",
    "  outputs a single string noting if that number is high, medium, or low.  \n",
    "1. Pass your function to `applymap` (quiz: why `applymap` and not\n",
    "  `agg` or `apply`?) and save the result in a new DataFrame called\n",
    "  `unemp_bins`.  \n",
    "1. (Challenging) This exercise has multiple parts:  \n",
    "  1. Use another transform on `unemp_bins` to count how many\n",
    "    times each state had each of the three classifications.  \n",
    "    - Will this value counting function be a Series or scalar transform?  \n",
    "    - Try googling “pandas count unique value” or something similar to find the right transform.  \n",
    "  1. Construct a horizontal bar chart of the number of occurrences of\n",
    "    each level with one bar per state and classification (21 total\n",
    "    bars).  \n",
    "1. (Challenging) Repeat the previous step, but count how many states had\n",
    "  each classification in each month. Which month had the most states\n",
    "  with high unemployment? What about medium and low?  "
   ]
  },
  {
   "cell_type": "code",
   "execution_count": null,
   "id": "a740a118",
   "metadata": {
    "hide-output": false
   },
   "outputs": [],
   "source": [
    "# Part 1: Write a Python function to classify unemployment levels."
   ]
  },
  {
   "cell_type": "code",
   "execution_count": null,
   "id": "5eb3f76b",
   "metadata": {
    "hide-output": false
   },
   "outputs": [],
   "source": [
    "# Part 2: Pass your function from part 1 to applymap\n",
    "unemp_bins = unemp.applymap#replace this comment with your code!!"
   ]
  },
  {
   "cell_type": "code",
   "execution_count": null,
   "id": "4db17024",
   "metadata": {
    "hide-output": false
   },
   "outputs": [],
   "source": [
    "# Part 3: Count the number of times each state had each classification.\n",
    "\n",
    "## then make a horizontal bar chart here"
   ]
  },
  {
   "cell_type": "code",
   "execution_count": null,
   "id": "c18abb8d",
   "metadata": {
    "hide-output": false
   },
   "outputs": [],
   "source": [
    "# Part 4: Apply the same transform from part 4, but to each date instead of to each state."
   ]
  },
  {
   "cell_type": "markdown",
   "id": "a48caeac",
   "metadata": {},
   "source": [
    "([back to text](#pd-bas-dir3))"
   ]
  },
  {
   "cell_type": "markdown",
   "id": "64cce062",
   "metadata": {},
   "source": [
    "### Exercise 4\n",
    "\n",
    "- For a single state of your choice, determine what the mean\n",
    "  unemployment is during “Low”, “Medium”, and “High” unemployment times\n",
    "  (recall your `unemp_bins` DataFrame from the exercise above).  \n",
    "  - Think about how you would do this for all the\n",
    "    states in our sample and write your thoughts… We will soon\n",
    "    learn tools that will *greatly* simplify operations like\n",
    "    this that operate on distinct *groups* of data at a time.  \n",
    "- Which states in our sample performs the best during “bad times?” To\n",
    "  determine this, compute the mean unemployment for each state only for\n",
    "  months in which the mean unemployment rate in our sample is greater\n",
    "  than 7.  \n",
    "\n",
    "\n",
    "([back to text](#pd-bas-dir4))"
   ]
  }
 ],
 "metadata": {
  "date": 1673670628.5724804,
  "filename": "basics.md",
  "kernelspec": {
   "display_name": "Python 3 (ipykernel)",
   "language": "python",
   "name": "python3"
  },
  "language_info": {
   "codemirror_mode": {
    "name": "ipython",
    "version": 3
   },
   "file_extension": ".py",
   "mimetype": "text/x-python",
   "name": "python",
   "nbconvert_exporter": "python",
   "pygments_lexer": "ipython3",
   "version": "3.10.8"
  },
  "title": "Basic Functionality"
 },
 "nbformat": 4,
 "nbformat_minor": 5
}
